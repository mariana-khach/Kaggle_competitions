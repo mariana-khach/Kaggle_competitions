{
 "cells": [
  {
   "cell_type": "code",
   "execution_count": 1,
   "id": "8da256f9",
   "metadata": {
    "scrolled": true
   },
   "outputs": [],
   "source": [
    "import numpy as np\n",
    "import seaborn as sns\n",
    "import pandas as pd\n",
    "import matplotlib.pyplot as plt\n"
   ]
  },
  {
   "cell_type": "markdown",
   "id": "4f700828",
   "metadata": {},
   "source": [
    "# Data analysis"
   ]
  },
  {
   "cell_type": "code",
   "execution_count": 2,
   "id": "b25b9b5b",
   "metadata": {},
   "outputs": [],
   "source": [
    "df_train=pd.read_csv(\"train_small.csv\")"
   ]
  },
  {
   "cell_type": "code",
   "execution_count": 3,
   "id": "ab4d4b05",
   "metadata": {},
   "outputs": [
    {
     "name": "stdout",
     "output_type": "stream",
     "text": [
      "<class 'pandas.core.frame.DataFrame'>\n",
      "RangeIndex: 1160082 entries, 0 to 1160081\n",
      "Data columns (total 6 columns):\n",
      " #   Column       Non-Null Count    Dtype  \n",
      "---  ------       --------------    -----  \n",
      " 0   id           1160082 non-null  int64  \n",
      " 1   date         1160082 non-null  object \n",
      " 2   store_nbr    1160082 non-null  int64  \n",
      " 3   family       1160082 non-null  object \n",
      " 4   sales        1160082 non-null  float64\n",
      " 5   onpromotion  1160082 non-null  int64  \n",
      "dtypes: float64(1), int64(3), object(2)\n",
      "memory usage: 53.1+ MB\n"
     ]
    }
   ],
   "source": [
    "df_train.info()"
   ]
  },
  {
   "cell_type": "code",
   "execution_count": null,
   "id": "abad81e1",
   "metadata": {},
   "outputs": [],
   "source": []
  },
  {
   "cell_type": "code",
   "execution_count": 4,
   "id": "d3b87e24",
   "metadata": {},
   "outputs": [
    {
     "data": {
      "text/html": [
       "<div>\n",
       "<style scoped>\n",
       "    .dataframe tbody tr th:only-of-type {\n",
       "        vertical-align: middle;\n",
       "    }\n",
       "\n",
       "    .dataframe tbody tr th {\n",
       "        vertical-align: top;\n",
       "    }\n",
       "\n",
       "    .dataframe thead th {\n",
       "        text-align: right;\n",
       "    }\n",
       "</style>\n",
       "<table border=\"1\" class=\"dataframe\">\n",
       "  <thead>\n",
       "    <tr style=\"text-align: right;\">\n",
       "      <th></th>\n",
       "      <th>id</th>\n",
       "      <th>store_nbr</th>\n",
       "      <th>sales</th>\n",
       "      <th>onpromotion</th>\n",
       "    </tr>\n",
       "  </thead>\n",
       "  <tbody>\n",
       "    <tr>\n",
       "      <th>count</th>\n",
       "      <td>1.160082e+06</td>\n",
       "      <td>1.160082e+06</td>\n",
       "      <td>1.160082e+06</td>\n",
       "      <td>1.160082e+06</td>\n",
       "    </tr>\n",
       "    <tr>\n",
       "      <th>mean</th>\n",
       "      <td>2.420846e+06</td>\n",
       "      <td>2.750000e+01</td>\n",
       "      <td>4.586756e+02</td>\n",
       "      <td>5.622966e+00</td>\n",
       "    </tr>\n",
       "    <tr>\n",
       "      <th>std</th>\n",
       "      <td>3.348870e+05</td>\n",
       "      <td>1.558579e+01</td>\n",
       "      <td>1.319650e+03</td>\n",
       "      <td>1.769795e+01</td>\n",
       "    </tr>\n",
       "    <tr>\n",
       "      <th>min</th>\n",
       "      <td>1.840806e+06</td>\n",
       "      <td>1.000000e+00</td>\n",
       "      <td>0.000000e+00</td>\n",
       "      <td>0.000000e+00</td>\n",
       "    </tr>\n",
       "    <tr>\n",
       "      <th>25%</th>\n",
       "      <td>2.130826e+06</td>\n",
       "      <td>1.400000e+01</td>\n",
       "      <td>2.000000e+00</td>\n",
       "      <td>0.000000e+00</td>\n",
       "    </tr>\n",
       "    <tr>\n",
       "      <th>50%</th>\n",
       "      <td>2.420846e+06</td>\n",
       "      <td>2.750000e+01</td>\n",
       "      <td>2.400000e+01</td>\n",
       "      <td>0.000000e+00</td>\n",
       "    </tr>\n",
       "    <tr>\n",
       "      <th>75%</th>\n",
       "      <td>2.710867e+06</td>\n",
       "      <td>4.100000e+01</td>\n",
       "      <td>2.630000e+02</td>\n",
       "      <td>2.000000e+00</td>\n",
       "    </tr>\n",
       "    <tr>\n",
       "      <th>max</th>\n",
       "      <td>3.000887e+06</td>\n",
       "      <td>5.400000e+01</td>\n",
       "      <td>1.247170e+05</td>\n",
       "      <td>7.410000e+02</td>\n",
       "    </tr>\n",
       "  </tbody>\n",
       "</table>\n",
       "</div>"
      ],
      "text/plain": [
       "                 id     store_nbr         sales   onpromotion\n",
       "count  1.160082e+06  1.160082e+06  1.160082e+06  1.160082e+06\n",
       "mean   2.420846e+06  2.750000e+01  4.586756e+02  5.622966e+00\n",
       "std    3.348870e+05  1.558579e+01  1.319650e+03  1.769795e+01\n",
       "min    1.840806e+06  1.000000e+00  0.000000e+00  0.000000e+00\n",
       "25%    2.130826e+06  1.400000e+01  2.000000e+00  0.000000e+00\n",
       "50%    2.420846e+06  2.750000e+01  2.400000e+01  0.000000e+00\n",
       "75%    2.710867e+06  4.100000e+01  2.630000e+02  2.000000e+00\n",
       "max    3.000887e+06  5.400000e+01  1.247170e+05  7.410000e+02"
      ]
     },
     "execution_count": 4,
     "metadata": {},
     "output_type": "execute_result"
    }
   ],
   "source": [
    "df_train.describe()"
   ]
  },
  {
   "cell_type": "code",
   "execution_count": 5,
   "id": "8e8f15f5",
   "metadata": {},
   "outputs": [],
   "source": [
    "df_stores=pd.read_csv(\"stores.csv\")"
   ]
  },
  {
   "cell_type": "code",
   "execution_count": 6,
   "id": "e5b6d336",
   "metadata": {},
   "outputs": [],
   "source": [
    "df_oil=pd.read_csv(\"oil.csv\")"
   ]
  },
  {
   "cell_type": "code",
   "execution_count": 7,
   "id": "fd07503b",
   "metadata": {},
   "outputs": [],
   "source": [
    "df_holidays_events=pd.read_csv(\"holidays_events.csv\")"
   ]
  },
  {
   "cell_type": "code",
   "execution_count": 8,
   "id": "4f430f71",
   "metadata": {},
   "outputs": [
    {
     "name": "stdout",
     "output_type": "stream",
     "text": [
      "<class 'pandas.core.frame.DataFrame'>\n",
      "RangeIndex: 54 entries, 0 to 53\n",
      "Data columns (total 5 columns):\n",
      " #   Column     Non-Null Count  Dtype \n",
      "---  ------     --------------  ----- \n",
      " 0   store_nbr  54 non-null     int64 \n",
      " 1   city       54 non-null     object\n",
      " 2   state      54 non-null     object\n",
      " 3   type       54 non-null     object\n",
      " 4   cluster    54 non-null     int64 \n",
      "dtypes: int64(2), object(3)\n",
      "memory usage: 2.2+ KB\n"
     ]
    }
   ],
   "source": [
    "df_stores.info()"
   ]
  },
  {
   "cell_type": "code",
   "execution_count": 9,
   "id": "3cf6af7f",
   "metadata": {},
   "outputs": [],
   "source": [
    "df_train_st=df_train.merge(df_stores,on=\"store_nbr\",how=\"left\")"
   ]
  },
  {
   "cell_type": "code",
   "execution_count": 10,
   "id": "6270473d",
   "metadata": {},
   "outputs": [
    {
     "name": "stdout",
     "output_type": "stream",
     "text": [
      "<class 'pandas.core.frame.DataFrame'>\n",
      "RangeIndex: 1218 entries, 0 to 1217\n",
      "Data columns (total 2 columns):\n",
      " #   Column      Non-Null Count  Dtype  \n",
      "---  ------      --------------  -----  \n",
      " 0   date        1218 non-null   object \n",
      " 1   dcoilwtico  1175 non-null   float64\n",
      "dtypes: float64(1), object(1)\n",
      "memory usage: 19.2+ KB\n"
     ]
    }
   ],
   "source": [
    "df_oil.info()"
   ]
  },
  {
   "cell_type": "code",
   "execution_count": 11,
   "id": "80883d32",
   "metadata": {},
   "outputs": [
    {
     "name": "stdout",
     "output_type": "stream",
     "text": [
      "<class 'pandas.core.frame.DataFrame'>\n",
      "RangeIndex: 1160082 entries, 0 to 1160081\n",
      "Data columns (total 6 columns):\n",
      " #   Column       Non-Null Count    Dtype  \n",
      "---  ------       --------------    -----  \n",
      " 0   id           1160082 non-null  int64  \n",
      " 1   date         1160082 non-null  object \n",
      " 2   store_nbr    1160082 non-null  int64  \n",
      " 3   family       1160082 non-null  object \n",
      " 4   sales        1160082 non-null  float64\n",
      " 5   onpromotion  1160082 non-null  int64  \n",
      "dtypes: float64(1), int64(3), object(2)\n",
      "memory usage: 53.1+ MB\n"
     ]
    }
   ],
   "source": [
    "df_train.info()"
   ]
  },
  {
   "cell_type": "code",
   "execution_count": 12,
   "id": "a35a3b5b",
   "metadata": {},
   "outputs": [],
   "source": [
    "df_train_st_oil=df_train_st.merge(df_oil,on=\"date\",how=\"left\")"
   ]
  },
  {
   "cell_type": "code",
   "execution_count": 13,
   "id": "74ec0153",
   "metadata": {},
   "outputs": [
    {
     "name": "stdout",
     "output_type": "stream",
     "text": [
      "<class 'pandas.core.frame.DataFrame'>\n",
      "RangeIndex: 350 entries, 0 to 349\n",
      "Data columns (total 6 columns):\n",
      " #   Column       Non-Null Count  Dtype \n",
      "---  ------       --------------  ----- \n",
      " 0   date         350 non-null    object\n",
      " 1   type         350 non-null    object\n",
      " 2   locale       350 non-null    object\n",
      " 3   locale_name  350 non-null    object\n",
      " 4   description  350 non-null    object\n",
      " 5   transferred  350 non-null    bool  \n",
      "dtypes: bool(1), object(5)\n",
      "memory usage: 14.1+ KB\n"
     ]
    }
   ],
   "source": [
    "df_holidays_events.info()\n"
   ]
  },
  {
   "cell_type": "code",
   "execution_count": 14,
   "id": "5825f942",
   "metadata": {},
   "outputs": [],
   "source": [
    "df_train_st_oil_holid=df_train_st_oil.merge(df_holidays_events,on=\"date\",how=\"left\")"
   ]
  },
  {
   "cell_type": "code",
   "execution_count": 15,
   "id": "7a3df7e6",
   "metadata": {},
   "outputs": [
    {
     "name": "stdout",
     "output_type": "stream",
     "text": [
      "<class 'pandas.core.frame.DataFrame'>\n",
      "Int64Index: 1188594 entries, 0 to 1188593\n",
      "Data columns (total 16 columns):\n",
      " #   Column       Non-Null Count    Dtype  \n",
      "---  ------       --------------    -----  \n",
      " 0   id           1188594 non-null  int64  \n",
      " 1   date         1188594 non-null  object \n",
      " 2   store_nbr    1188594 non-null  int64  \n",
      " 3   family       1188594 non-null  object \n",
      " 4   sales        1188594 non-null  float64\n",
      " 5   onpromotion  1188594 non-null  int64  \n",
      " 6   city         1188594 non-null  object \n",
      " 7   state        1188594 non-null  object \n",
      " 8   type_x       1188594 non-null  object \n",
      " 9   cluster      1188594 non-null  int64  \n",
      " 10  dcoilwtico   807246 non-null   float64\n",
      " 11  type_y       238788 non-null   object \n",
      " 12  locale       238788 non-null   object \n",
      " 13  locale_name  238788 non-null   object \n",
      " 14  description  238788 non-null   object \n",
      " 15  transferred  238788 non-null   object \n",
      "dtypes: float64(2), int64(4), object(10)\n",
      "memory usage: 154.2+ MB\n"
     ]
    }
   ],
   "source": [
    "df_train_st_oil_holid.info(verbose=True, show_counts=True)"
   ]
  },
  {
   "cell_type": "code",
   "execution_count": 16,
   "id": "8ca86e8d",
   "metadata": {},
   "outputs": [
    {
     "data": {
      "text/plain": [
       "381348"
      ]
     },
     "execution_count": 16,
     "metadata": {},
     "output_type": "execute_result"
    }
   ],
   "source": [
    "#We are missing daily oil price info for this many days\n",
    "df_train_st_oil_holid[\"dcoilwtico\"].isnull().sum()"
   ]
  },
  {
   "cell_type": "code",
   "execution_count": 17,
   "id": "fc38f0ae",
   "metadata": {},
   "outputs": [],
   "source": [
    "#These are the days that don't have any associated holiday, so we can fill corresponding info as not a holiday"
   ]
  },
  {
   "cell_type": "code",
   "execution_count": 18,
   "id": "5cbf6707",
   "metadata": {},
   "outputs": [],
   "source": [
    "#Rename two columns\n",
    "df_train_st_oil_holid=df_train_st_oil_holid.rename({\"type_x\":\"store_type\",\"type_y\":\"day_type\"},axis=1)"
   ]
  },
  {
   "cell_type": "code",
   "execution_count": 19,
   "id": "6b2fb986",
   "metadata": {},
   "outputs": [
    {
     "data": {
      "text/html": [
       "<div>\n",
       "<style scoped>\n",
       "    .dataframe tbody tr th:only-of-type {\n",
       "        vertical-align: middle;\n",
       "    }\n",
       "\n",
       "    .dataframe tbody tr th {\n",
       "        vertical-align: top;\n",
       "    }\n",
       "\n",
       "    .dataframe thead th {\n",
       "        text-align: right;\n",
       "    }\n",
       "</style>\n",
       "<table border=\"1\" class=\"dataframe\">\n",
       "  <thead>\n",
       "    <tr style=\"text-align: right;\">\n",
       "      <th></th>\n",
       "      <th>id</th>\n",
       "      <th>date</th>\n",
       "      <th>store_nbr</th>\n",
       "      <th>family</th>\n",
       "      <th>sales</th>\n",
       "      <th>onpromotion</th>\n",
       "      <th>city</th>\n",
       "      <th>state</th>\n",
       "      <th>store_type</th>\n",
       "      <th>cluster</th>\n",
       "      <th>dcoilwtico</th>\n",
       "      <th>day_type</th>\n",
       "      <th>locale</th>\n",
       "      <th>locale_name</th>\n",
       "      <th>description</th>\n",
       "      <th>transferred</th>\n",
       "    </tr>\n",
       "  </thead>\n",
       "  <tbody>\n",
       "    <tr>\n",
       "      <th>1188584</th>\n",
       "      <td>3000878</td>\n",
       "      <td>2017-08-15</td>\n",
       "      <td>9</td>\n",
       "      <td>MAGAZINES</td>\n",
       "      <td>11.000</td>\n",
       "      <td>0</td>\n",
       "      <td>Quito</td>\n",
       "      <td>Pichincha</td>\n",
       "      <td>B</td>\n",
       "      <td>6</td>\n",
       "      <td>47.57</td>\n",
       "      <td>Holiday</td>\n",
       "      <td>Local</td>\n",
       "      <td>Riobamba</td>\n",
       "      <td>Fundacion de Riobamba</td>\n",
       "      <td>False</td>\n",
       "    </tr>\n",
       "    <tr>\n",
       "      <th>1188585</th>\n",
       "      <td>3000879</td>\n",
       "      <td>2017-08-15</td>\n",
       "      <td>9</td>\n",
       "      <td>MEATS</td>\n",
       "      <td>449.228</td>\n",
       "      <td>0</td>\n",
       "      <td>Quito</td>\n",
       "      <td>Pichincha</td>\n",
       "      <td>B</td>\n",
       "      <td>6</td>\n",
       "      <td>47.57</td>\n",
       "      <td>Holiday</td>\n",
       "      <td>Local</td>\n",
       "      <td>Riobamba</td>\n",
       "      <td>Fundacion de Riobamba</td>\n",
       "      <td>False</td>\n",
       "    </tr>\n",
       "    <tr>\n",
       "      <th>1188586</th>\n",
       "      <td>3000880</td>\n",
       "      <td>2017-08-15</td>\n",
       "      <td>9</td>\n",
       "      <td>PERSONAL CARE</td>\n",
       "      <td>522.000</td>\n",
       "      <td>11</td>\n",
       "      <td>Quito</td>\n",
       "      <td>Pichincha</td>\n",
       "      <td>B</td>\n",
       "      <td>6</td>\n",
       "      <td>47.57</td>\n",
       "      <td>Holiday</td>\n",
       "      <td>Local</td>\n",
       "      <td>Riobamba</td>\n",
       "      <td>Fundacion de Riobamba</td>\n",
       "      <td>False</td>\n",
       "    </tr>\n",
       "    <tr>\n",
       "      <th>1188587</th>\n",
       "      <td>3000881</td>\n",
       "      <td>2017-08-15</td>\n",
       "      <td>9</td>\n",
       "      <td>PET SUPPLIES</td>\n",
       "      <td>6.000</td>\n",
       "      <td>0</td>\n",
       "      <td>Quito</td>\n",
       "      <td>Pichincha</td>\n",
       "      <td>B</td>\n",
       "      <td>6</td>\n",
       "      <td>47.57</td>\n",
       "      <td>Holiday</td>\n",
       "      <td>Local</td>\n",
       "      <td>Riobamba</td>\n",
       "      <td>Fundacion de Riobamba</td>\n",
       "      <td>False</td>\n",
       "    </tr>\n",
       "    <tr>\n",
       "      <th>1188588</th>\n",
       "      <td>3000882</td>\n",
       "      <td>2017-08-15</td>\n",
       "      <td>9</td>\n",
       "      <td>PLAYERS AND ELECTRONICS</td>\n",
       "      <td>6.000</td>\n",
       "      <td>0</td>\n",
       "      <td>Quito</td>\n",
       "      <td>Pichincha</td>\n",
       "      <td>B</td>\n",
       "      <td>6</td>\n",
       "      <td>47.57</td>\n",
       "      <td>Holiday</td>\n",
       "      <td>Local</td>\n",
       "      <td>Riobamba</td>\n",
       "      <td>Fundacion de Riobamba</td>\n",
       "      <td>False</td>\n",
       "    </tr>\n",
       "    <tr>\n",
       "      <th>1188589</th>\n",
       "      <td>3000883</td>\n",
       "      <td>2017-08-15</td>\n",
       "      <td>9</td>\n",
       "      <td>POULTRY</td>\n",
       "      <td>438.133</td>\n",
       "      <td>0</td>\n",
       "      <td>Quito</td>\n",
       "      <td>Pichincha</td>\n",
       "      <td>B</td>\n",
       "      <td>6</td>\n",
       "      <td>47.57</td>\n",
       "      <td>Holiday</td>\n",
       "      <td>Local</td>\n",
       "      <td>Riobamba</td>\n",
       "      <td>Fundacion de Riobamba</td>\n",
       "      <td>False</td>\n",
       "    </tr>\n",
       "    <tr>\n",
       "      <th>1188590</th>\n",
       "      <td>3000884</td>\n",
       "      <td>2017-08-15</td>\n",
       "      <td>9</td>\n",
       "      <td>PREPARED FOODS</td>\n",
       "      <td>154.553</td>\n",
       "      <td>1</td>\n",
       "      <td>Quito</td>\n",
       "      <td>Pichincha</td>\n",
       "      <td>B</td>\n",
       "      <td>6</td>\n",
       "      <td>47.57</td>\n",
       "      <td>Holiday</td>\n",
       "      <td>Local</td>\n",
       "      <td>Riobamba</td>\n",
       "      <td>Fundacion de Riobamba</td>\n",
       "      <td>False</td>\n",
       "    </tr>\n",
       "    <tr>\n",
       "      <th>1188591</th>\n",
       "      <td>3000885</td>\n",
       "      <td>2017-08-15</td>\n",
       "      <td>9</td>\n",
       "      <td>PRODUCE</td>\n",
       "      <td>2419.729</td>\n",
       "      <td>148</td>\n",
       "      <td>Quito</td>\n",
       "      <td>Pichincha</td>\n",
       "      <td>B</td>\n",
       "      <td>6</td>\n",
       "      <td>47.57</td>\n",
       "      <td>Holiday</td>\n",
       "      <td>Local</td>\n",
       "      <td>Riobamba</td>\n",
       "      <td>Fundacion de Riobamba</td>\n",
       "      <td>False</td>\n",
       "    </tr>\n",
       "    <tr>\n",
       "      <th>1188592</th>\n",
       "      <td>3000886</td>\n",
       "      <td>2017-08-15</td>\n",
       "      <td>9</td>\n",
       "      <td>SCHOOL AND OFFICE SUPPLIES</td>\n",
       "      <td>121.000</td>\n",
       "      <td>8</td>\n",
       "      <td>Quito</td>\n",
       "      <td>Pichincha</td>\n",
       "      <td>B</td>\n",
       "      <td>6</td>\n",
       "      <td>47.57</td>\n",
       "      <td>Holiday</td>\n",
       "      <td>Local</td>\n",
       "      <td>Riobamba</td>\n",
       "      <td>Fundacion de Riobamba</td>\n",
       "      <td>False</td>\n",
       "    </tr>\n",
       "    <tr>\n",
       "      <th>1188593</th>\n",
       "      <td>3000887</td>\n",
       "      <td>2017-08-15</td>\n",
       "      <td>9</td>\n",
       "      <td>SEAFOOD</td>\n",
       "      <td>16.000</td>\n",
       "      <td>0</td>\n",
       "      <td>Quito</td>\n",
       "      <td>Pichincha</td>\n",
       "      <td>B</td>\n",
       "      <td>6</td>\n",
       "      <td>47.57</td>\n",
       "      <td>Holiday</td>\n",
       "      <td>Local</td>\n",
       "      <td>Riobamba</td>\n",
       "      <td>Fundacion de Riobamba</td>\n",
       "      <td>False</td>\n",
       "    </tr>\n",
       "  </tbody>\n",
       "</table>\n",
       "</div>"
      ],
      "text/plain": [
       "              id        date  store_nbr                      family     sales  \\\n",
       "1188584  3000878  2017-08-15          9                   MAGAZINES    11.000   \n",
       "1188585  3000879  2017-08-15          9                       MEATS   449.228   \n",
       "1188586  3000880  2017-08-15          9               PERSONAL CARE   522.000   \n",
       "1188587  3000881  2017-08-15          9                PET SUPPLIES     6.000   \n",
       "1188588  3000882  2017-08-15          9     PLAYERS AND ELECTRONICS     6.000   \n",
       "1188589  3000883  2017-08-15          9                     POULTRY   438.133   \n",
       "1188590  3000884  2017-08-15          9              PREPARED FOODS   154.553   \n",
       "1188591  3000885  2017-08-15          9                     PRODUCE  2419.729   \n",
       "1188592  3000886  2017-08-15          9  SCHOOL AND OFFICE SUPPLIES   121.000   \n",
       "1188593  3000887  2017-08-15          9                     SEAFOOD    16.000   \n",
       "\n",
       "         onpromotion   city      state store_type  cluster  dcoilwtico  \\\n",
       "1188584            0  Quito  Pichincha          B        6       47.57   \n",
       "1188585            0  Quito  Pichincha          B        6       47.57   \n",
       "1188586           11  Quito  Pichincha          B        6       47.57   \n",
       "1188587            0  Quito  Pichincha          B        6       47.57   \n",
       "1188588            0  Quito  Pichincha          B        6       47.57   \n",
       "1188589            0  Quito  Pichincha          B        6       47.57   \n",
       "1188590            1  Quito  Pichincha          B        6       47.57   \n",
       "1188591          148  Quito  Pichincha          B        6       47.57   \n",
       "1188592            8  Quito  Pichincha          B        6       47.57   \n",
       "1188593            0  Quito  Pichincha          B        6       47.57   \n",
       "\n",
       "        day_type locale locale_name            description transferred  \n",
       "1188584  Holiday  Local    Riobamba  Fundacion de Riobamba       False  \n",
       "1188585  Holiday  Local    Riobamba  Fundacion de Riobamba       False  \n",
       "1188586  Holiday  Local    Riobamba  Fundacion de Riobamba       False  \n",
       "1188587  Holiday  Local    Riobamba  Fundacion de Riobamba       False  \n",
       "1188588  Holiday  Local    Riobamba  Fundacion de Riobamba       False  \n",
       "1188589  Holiday  Local    Riobamba  Fundacion de Riobamba       False  \n",
       "1188590  Holiday  Local    Riobamba  Fundacion de Riobamba       False  \n",
       "1188591  Holiday  Local    Riobamba  Fundacion de Riobamba       False  \n",
       "1188592  Holiday  Local    Riobamba  Fundacion de Riobamba       False  \n",
       "1188593  Holiday  Local    Riobamba  Fundacion de Riobamba       False  "
      ]
     },
     "execution_count": 19,
     "metadata": {},
     "output_type": "execute_result"
    }
   ],
   "source": [
    "df_train_st_oil_holid.tail(10)"
   ]
  },
  {
   "cell_type": "code",
   "execution_count": 20,
   "id": "8435bf82",
   "metadata": {},
   "outputs": [
    {
     "data": {
      "text/plain": [
       "array(['Holiday', nan, 'Event', 'Additional', 'Transfer', 'Bridge',\n",
       "       'Work Day'], dtype=object)"
      ]
     },
     "execution_count": 20,
     "metadata": {},
     "output_type": "execute_result"
    }
   ],
   "source": [
    "df_train_st_oil_holid[\"day_type\"].unique()"
   ]
  },
  {
   "cell_type": "code",
   "execution_count": 21,
   "id": "c949b76c",
   "metadata": {},
   "outputs": [
    {
     "data": {
      "text/plain": [
       "array([False, nan, True], dtype=object)"
      ]
     },
     "execution_count": 21,
     "metadata": {},
     "output_type": "execute_result"
    }
   ],
   "source": [
    "df_train_st_oil_holid[\"transferred\"].unique()"
   ]
  },
  {
   "cell_type": "code",
   "execution_count": 22,
   "id": "677b5819",
   "metadata": {},
   "outputs": [
    {
     "data": {
      "text/plain": [
       "85"
      ]
     },
     "execution_count": 22,
     "metadata": {},
     "output_type": "execute_result"
    }
   ],
   "source": [
    "df_train_st_oil_holid[\"description\"].nunique()"
   ]
  },
  {
   "cell_type": "code",
   "execution_count": 23,
   "id": "4b48fa1e",
   "metadata": {},
   "outputs": [
    {
     "data": {
      "text/plain": [
       "array(['National', nan, 'Regional', 'Local'], dtype=object)"
      ]
     },
     "execution_count": 23,
     "metadata": {},
     "output_type": "execute_result"
    }
   ],
   "source": [
    "df_train_st_oil_holid[\"locale\"].unique()"
   ]
  },
  {
   "cell_type": "code",
   "execution_count": 24,
   "id": "4a875646",
   "metadata": {},
   "outputs": [
    {
     "data": {
      "text/plain": [
       "array(['Ecuador', nan, 'Santo Domingo de los Tsachilas', 'Santa Elena',\n",
       "       'Guaranda', 'Latacunga', 'Ambato', 'Quito', 'Loja', 'Salinas',\n",
       "       'Manta', 'Cotopaxi', 'Cuenca', 'Libertad', 'Riobamba', 'Puyo',\n",
       "       'Machala', 'Imbabura', 'El Carmen', 'Santo Domingo', 'Cayambe',\n",
       "       'Guayaquil', 'Esmeraldas', 'Ibarra', 'Quevedo'], dtype=object)"
      ]
     },
     "execution_count": 24,
     "metadata": {},
     "output_type": "execute_result"
    }
   ],
   "source": [
    "df_train_st_oil_holid[\"locale_name\"].unique()"
   ]
  },
  {
   "cell_type": "code",
   "execution_count": 25,
   "id": "3ebb7500",
   "metadata": {},
   "outputs": [],
   "source": [
    "df_train_st_oil_holid[\"day_type\"].fillna(\"Regular Day\",inplace=True)\n",
    "df_train_st_oil_holid[\"locale\"].fillna(\"National\",inplace=True)\n",
    "df_train_st_oil_holid[\"locale_name\"].fillna(\"Ecuador\",inplace=True)\n",
    "df_train_st_oil_holid[\"transferred\"].fillna(\"False\",inplace=True)\n",
    "df_train_st_oil_holid[\"description\"].fillna(\"Not a holiday\",inplace=True)"
   ]
  },
  {
   "cell_type": "code",
   "execution_count": 26,
   "id": "cf845c0d",
   "metadata": {},
   "outputs": [
    {
     "name": "stdout",
     "output_type": "stream",
     "text": [
      "<class 'pandas.core.frame.DataFrame'>\n",
      "Int64Index: 1188594 entries, 0 to 1188593\n",
      "Data columns (total 16 columns):\n",
      " #   Column       Non-Null Count    Dtype  \n",
      "---  ------       --------------    -----  \n",
      " 0   id           1188594 non-null  int64  \n",
      " 1   date         1188594 non-null  object \n",
      " 2   store_nbr    1188594 non-null  int64  \n",
      " 3   family       1188594 non-null  object \n",
      " 4   sales        1188594 non-null  float64\n",
      " 5   onpromotion  1188594 non-null  int64  \n",
      " 6   city         1188594 non-null  object \n",
      " 7   state        1188594 non-null  object \n",
      " 8   store_type   1188594 non-null  object \n",
      " 9   cluster      1188594 non-null  int64  \n",
      " 10  dcoilwtico   807246 non-null   float64\n",
      " 11  day_type     1188594 non-null  object \n",
      " 12  locale       1188594 non-null  object \n",
      " 13  locale_name  1188594 non-null  object \n",
      " 14  description  1188594 non-null  object \n",
      " 15  transferred  1188594 non-null  object \n",
      "dtypes: float64(2), int64(4), object(10)\n",
      "memory usage: 154.2+ MB\n"
     ]
    }
   ],
   "source": [
    "df_train_st_oil_holid.info(verbose=True,show_counts=True)"
   ]
  },
  {
   "cell_type": "code",
   "execution_count": 27,
   "id": "4ca045d8",
   "metadata": {},
   "outputs": [
    {
     "data": {
      "text/plain": [
       "[<matplotlib.lines.Line2D at 0x1d70ff2e6c8>]"
      ]
     },
     "execution_count": 27,
     "metadata": {},
     "output_type": "execute_result"
    },
    {
     "data": {
      "image/png": "[encoded data removed]",
      "text/plain": [
       "<Figure size 640x480 with 1 Axes>"
      ]
     },
     "metadata": {},
     "output_type": "display_data"
    }
   ],
   "source": [
    "plt.plot(df_train_st_oil_holid[\"dcoilwtico\"],df_train_st_oil_holid[\"sales\"])"
   ]
  },
  {
   "cell_type": "code",
   "execution_count": 28,
   "id": "bec99a19",
   "metadata": {},
   "outputs": [],
   "source": [
    "mean_sale=df_train_st_oil_holid[\"dcoilwtico\"].mean()"
   ]
  },
  {
   "cell_type": "code",
   "execution_count": 29,
   "id": "0a706461",
   "metadata": {},
   "outputs": [
    {
     "data": {
      "text/plain": [
       "45.054988962453365"
      ]
     },
     "execution_count": 29,
     "metadata": {},
     "output_type": "execute_result"
    }
   ],
   "source": [
    "mean_sale"
   ]
  },
  {
   "cell_type": "code",
   "execution_count": 30,
   "id": "541b21a1",
   "metadata": {},
   "outputs": [],
   "source": [
    "df_train_st_oil_holid[\"dcoilwtico\"].fillna(mean_sale,inplace=True)"
   ]
  },
  {
   "cell_type": "code",
   "execution_count": 31,
   "id": "8da34fd0",
   "metadata": {},
   "outputs": [
    {
     "name": "stdout",
     "output_type": "stream",
     "text": [
      "<class 'pandas.core.frame.DataFrame'>\n",
      "Int64Index: 1188594 entries, 0 to 1188593\n",
      "Data columns (total 16 columns):\n",
      " #   Column       Non-Null Count    Dtype  \n",
      "---  ------       --------------    -----  \n",
      " 0   id           1188594 non-null  int64  \n",
      " 1   date         1188594 non-null  object \n",
      " 2   store_nbr    1188594 non-null  int64  \n",
      " 3   family       1188594 non-null  object \n",
      " 4   sales        1188594 non-null  float64\n",
      " 5   onpromotion  1188594 non-null  int64  \n",
      " 6   city         1188594 non-null  object \n",
      " 7   state        1188594 non-null  object \n",
      " 8   store_type   1188594 non-null  object \n",
      " 9   cluster      1188594 non-null  int64  \n",
      " 10  dcoilwtico   1188594 non-null  float64\n",
      " 11  day_type     1188594 non-null  object \n",
      " 12  locale       1188594 non-null  object \n",
      " 13  locale_name  1188594 non-null  object \n",
      " 14  description  1188594 non-null  object \n",
      " 15  transferred  1188594 non-null  object \n",
      "dtypes: float64(2), int64(4), object(10)\n",
      "memory usage: 154.2+ MB\n"
     ]
    }
   ],
   "source": [
    "df_train_st_oil_holid.info(verbose=True,show_counts=True)"
   ]
  },
  {
   "cell_type": "code",
   "execution_count": 32,
   "id": "2c08f21b",
   "metadata": {},
   "outputs": [],
   "source": [
    "# Convert the 'date' column to datetime\n",
    "df_train_st_oil_holid['date'] = pd.to_datetime(df_train_st_oil_holid['date'])"
   ]
  },
  {
   "cell_type": "code",
   "execution_count": 33,
   "id": "dbbb9468",
   "metadata": {},
   "outputs": [],
   "source": [
    "# Create a new column based on the date column to show that wages are paid at the end of the month and on 15th\n",
    "df_train_st_oil_holid['Wage_date'] = df_train_st_oil_holid['date'].apply(lambda x: 'Wage day' if x.is_month_end else ('Wage day' if x.day == 15 else 'Regular day'))\n"
   ]
  },
  {
   "cell_type": "code",
   "execution_count": 34,
   "id": "d30335ab",
   "metadata": {},
   "outputs": [
    {
     "data": {
      "text/plain": [
       "[<matplotlib.lines.Line2D at 0x1d71230e648>]"
      ]
     },
     "execution_count": 34,
     "metadata": {},
     "output_type": "execute_result"
    },
    {
     "data": {
      "image/png": "[encoded data removed]",
      "text/plain": [
       "<Figure size 640x480 with 1 Axes>"
      ]
     },
     "metadata": {},
     "output_type": "display_data"
    }
   ],
   "source": [
    "plt.plot(df_train_st_oil_holid[\"date\"],df_train_st_oil_holid[\"sales\"])"
   ]
  },
  {
   "cell_type": "code",
   "execution_count": 35,
   "id": "d36699ac",
   "metadata": {},
   "outputs": [
    {
     "data": {
      "text/plain": [
       "<matplotlib.legend.Legend at 0x1d7121e7848>"
      ]
     },
     "execution_count": 35,
     "metadata": {},
     "output_type": "execute_result"
    },
    {
     "data": {
      "image/png": "[encoded data removed]",
      "text/plain": [
       "<Figure size 1000x500 with 1 Axes>"
      ]
     },
     "metadata": {},
     "output_type": "display_data"
    }
   ],
   "source": [
    "plt.figure(figsize=(10,5))\n",
    "sns.scatterplot(data=df_train_st_oil_holid,x=\"date\",y=\"sales\",hue=\"family\")\n",
    "plt.legend(bbox_to_anchor = [1.1, 1])"
   ]
  },
  {
   "cell_type": "code",
   "execution_count": 36,
   "id": "7dbce028",
   "metadata": {},
   "outputs": [],
   "source": [
    "# The big spike around April 2016 corresponds to earthquake \n",
    "# We can see a periodic structure \n",
    "#Grocery sales dominate"
   ]
  },
  {
   "cell_type": "code",
   "execution_count": 37,
   "id": "dd047346",
   "metadata": {},
   "outputs": [
    {
     "data": {
      "text/plain": [
       "<AxesSubplot:xlabel='Wage_date', ylabel='sales'>"
      ]
     },
     "execution_count": 37,
     "metadata": {},
     "output_type": "execute_result"
    },
    {
     "data": {
      "image/png": "[encoded data removed]",
      "text/plain": [
       "<Figure size 640x480 with 1 Axes>"
      ]
     },
     "metadata": {},
     "output_type": "display_data"
    }
   ],
   "source": [
    "sns.barplot(data=df_train_st_oil_holid,x=\"Wage_date\",y=\"sales\")"
   ]
  },
  {
   "cell_type": "code",
   "execution_count": 38,
   "id": "8d0b5d42",
   "metadata": {},
   "outputs": [],
   "source": [
    "#There doesn't seem to be big difference between sales on wage days regular days"
   ]
  },
  {
   "cell_type": "code",
   "execution_count": 39,
   "id": "d190e028",
   "metadata": {},
   "outputs": [
    {
     "data": {
      "text/plain": [
       "<AxesSubplot:xlabel='day_type', ylabel='sales'>"
      ]
     },
     "execution_count": 39,
     "metadata": {},
     "output_type": "execute_result"
    },
    {
     "data": {
      "image/png": "[encoded data removed]",
      "text/plain": [
       "<Figure size 1000x500 with 1 Axes>"
      ]
     },
     "metadata": {},
     "output_type": "display_data"
    }
   ],
   "source": [
    "plt.figure(figsize=(10,5))\n",
    "sns.barplot(data=df_train_st_oil_holid,x=\"day_type\",y=\"sales\")"
   ]
  },
  {
   "cell_type": "code",
   "execution_count": 40,
   "id": "6b959997",
   "metadata": {},
   "outputs": [],
   "source": [
    "#We can see that most of the sales are on Additional holidays that are days added a regular calendar holiday"
   ]
  },
  {
   "cell_type": "code",
   "execution_count": 41,
   "id": "3f0769e1",
   "metadata": {},
   "outputs": [
    {
     "data": {
      "text/plain": [
       "<AxesSubplot:xlabel='family', ylabel='sales'>"
      ]
     },
     "execution_count": 41,
     "metadata": {},
     "output_type": "execute_result"
    },
    {
     "data": {
      "image/png": "[encoded data removed]",
      "text/plain": [
       "<Figure size 640x480 with 1 Axes>"
      ]
     },
     "metadata": {},
     "output_type": "display_data"
    }
   ],
   "source": [
    "plt.xticks(rotation=90)\n",
    "sns.barplot(data=df_train_st_oil_holid,x=\"family\" ,y=\"sales\")"
   ]
  },
  {
   "cell_type": "code",
   "execution_count": 42,
   "id": "06af7cb9",
   "metadata": {},
   "outputs": [],
   "source": [
    "#We can see that Grocery 1 category is the most popular"
   ]
  },
  {
   "cell_type": "code",
   "execution_count": 43,
   "id": "dfc44879",
   "metadata": {},
   "outputs": [],
   "source": [
    "obj_feature=[\"family\",\"city\",\"state\",\"store_type\",\"day_type\",\"locale\",\"locale_name\",\"description\",\"transferred\",\"Wage_date\"]"
   ]
  },
  {
   "cell_type": "code",
   "execution_count": 44,
   "id": "58b26b9b",
   "metadata": {},
   "outputs": [],
   "source": [
    "df_dummies=pd.get_dummies(df_train_st_oil_holid[obj_feature],drop_first=True)"
   ]
  },
  {
   "cell_type": "code",
   "execution_count": 45,
   "id": "7c57289e",
   "metadata": {},
   "outputs": [],
   "source": [
    "df_train_st_oil_holid=pd.concat([df_train_st_oil_holid,df_dummies],axis=1)"
   ]
  },
  {
   "cell_type": "code",
   "execution_count": 46,
   "id": "6b2302ea",
   "metadata": {},
   "outputs": [
    {
     "data": {
      "text/html": [
       "<div>\n",
       "<style scoped>\n",
       "    .dataframe tbody tr th:only-of-type {\n",
       "        vertical-align: middle;\n",
       "    }\n",
       "\n",
       "    .dataframe tbody tr th {\n",
       "        vertical-align: top;\n",
       "    }\n",
       "\n",
       "    .dataframe thead th {\n",
       "        text-align: right;\n",
       "    }\n",
       "</style>\n",
       "<table border=\"1\" class=\"dataframe\">\n",
       "  <thead>\n",
       "    <tr style=\"text-align: right;\">\n",
       "      <th></th>\n",
       "      <th>id</th>\n",
       "      <th>store_nbr</th>\n",
       "      <th>family</th>\n",
       "      <th>sales</th>\n",
       "      <th>onpromotion</th>\n",
       "      <th>city</th>\n",
       "      <th>state</th>\n",
       "      <th>store_type</th>\n",
       "      <th>cluster</th>\n",
       "      <th>dcoilwtico</th>\n",
       "      <th>...</th>\n",
       "      <th>description_Terremoto Manabi+8</th>\n",
       "      <th>description_Terremoto Manabi+9</th>\n",
       "      <th>description_Traslado Batalla de Pichincha</th>\n",
       "      <th>description_Traslado Fundacion de Guayaquil</th>\n",
       "      <th>description_Traslado Primer Grito de Independencia</th>\n",
       "      <th>description_Traslado Primer dia del ano</th>\n",
       "      <th>description_Viernes Santo</th>\n",
       "      <th>transferred_True</th>\n",
       "      <th>transferred_False</th>\n",
       "      <th>Wage_date_Wage day</th>\n",
       "    </tr>\n",
       "    <tr>\n",
       "      <th>date</th>\n",
       "      <th></th>\n",
       "      <th></th>\n",
       "      <th></th>\n",
       "      <th></th>\n",
       "      <th></th>\n",
       "      <th></th>\n",
       "      <th></th>\n",
       "      <th></th>\n",
       "      <th></th>\n",
       "      <th></th>\n",
       "      <th></th>\n",
       "      <th></th>\n",
       "      <th></th>\n",
       "      <th></th>\n",
       "      <th></th>\n",
       "      <th></th>\n",
       "      <th></th>\n",
       "      <th></th>\n",
       "      <th></th>\n",
       "      <th></th>\n",
       "      <th></th>\n",
       "    </tr>\n",
       "  </thead>\n",
       "  <tbody>\n",
       "    <tr>\n",
       "      <th>2015-11-02</th>\n",
       "      <td>1840806</td>\n",
       "      <td>1</td>\n",
       "      <td>AUTOMOTIVE</td>\n",
       "      <td>2.000</td>\n",
       "      <td>0</td>\n",
       "      <td>Quito</td>\n",
       "      <td>Pichincha</td>\n",
       "      <td>D</td>\n",
       "      <td>13</td>\n",
       "      <td>46.12</td>\n",
       "      <td>...</td>\n",
       "      <td>0</td>\n",
       "      <td>0</td>\n",
       "      <td>0</td>\n",
       "      <td>0</td>\n",
       "      <td>0</td>\n",
       "      <td>0</td>\n",
       "      <td>0</td>\n",
       "      <td>0</td>\n",
       "      <td>0</td>\n",
       "      <td>0</td>\n",
       "    </tr>\n",
       "    <tr>\n",
       "      <th>2015-11-02</th>\n",
       "      <td>1840807</td>\n",
       "      <td>1</td>\n",
       "      <td>BABY CARE</td>\n",
       "      <td>0.000</td>\n",
       "      <td>0</td>\n",
       "      <td>Quito</td>\n",
       "      <td>Pichincha</td>\n",
       "      <td>D</td>\n",
       "      <td>13</td>\n",
       "      <td>46.12</td>\n",
       "      <td>...</td>\n",
       "      <td>0</td>\n",
       "      <td>0</td>\n",
       "      <td>0</td>\n",
       "      <td>0</td>\n",
       "      <td>0</td>\n",
       "      <td>0</td>\n",
       "      <td>0</td>\n",
       "      <td>0</td>\n",
       "      <td>0</td>\n",
       "      <td>0</td>\n",
       "    </tr>\n",
       "    <tr>\n",
       "      <th>2015-11-02</th>\n",
       "      <td>1840808</td>\n",
       "      <td>1</td>\n",
       "      <td>BEAUTY</td>\n",
       "      <td>0.000</td>\n",
       "      <td>0</td>\n",
       "      <td>Quito</td>\n",
       "      <td>Pichincha</td>\n",
       "      <td>D</td>\n",
       "      <td>13</td>\n",
       "      <td>46.12</td>\n",
       "      <td>...</td>\n",
       "      <td>0</td>\n",
       "      <td>0</td>\n",
       "      <td>0</td>\n",
       "      <td>0</td>\n",
       "      <td>0</td>\n",
       "      <td>0</td>\n",
       "      <td>0</td>\n",
       "      <td>0</td>\n",
       "      <td>0</td>\n",
       "      <td>0</td>\n",
       "    </tr>\n",
       "    <tr>\n",
       "      <th>2015-11-02</th>\n",
       "      <td>1840809</td>\n",
       "      <td>1</td>\n",
       "      <td>BEVERAGES</td>\n",
       "      <td>559.000</td>\n",
       "      <td>8</td>\n",
       "      <td>Quito</td>\n",
       "      <td>Pichincha</td>\n",
       "      <td>D</td>\n",
       "      <td>13</td>\n",
       "      <td>46.12</td>\n",
       "      <td>...</td>\n",
       "      <td>0</td>\n",
       "      <td>0</td>\n",
       "      <td>0</td>\n",
       "      <td>0</td>\n",
       "      <td>0</td>\n",
       "      <td>0</td>\n",
       "      <td>0</td>\n",
       "      <td>0</td>\n",
       "      <td>0</td>\n",
       "      <td>0</td>\n",
       "    </tr>\n",
       "    <tr>\n",
       "      <th>2015-11-02</th>\n",
       "      <td>1840810</td>\n",
       "      <td>1</td>\n",
       "      <td>BOOKS</td>\n",
       "      <td>0.000</td>\n",
       "      <td>0</td>\n",
       "      <td>Quito</td>\n",
       "      <td>Pichincha</td>\n",
       "      <td>D</td>\n",
       "      <td>13</td>\n",
       "      <td>46.12</td>\n",
       "      <td>...</td>\n",
       "      <td>0</td>\n",
       "      <td>0</td>\n",
       "      <td>0</td>\n",
       "      <td>0</td>\n",
       "      <td>0</td>\n",
       "      <td>0</td>\n",
       "      <td>0</td>\n",
       "      <td>0</td>\n",
       "      <td>0</td>\n",
       "      <td>0</td>\n",
       "    </tr>\n",
       "    <tr>\n",
       "      <th>...</th>\n",
       "      <td>...</td>\n",
       "      <td>...</td>\n",
       "      <td>...</td>\n",
       "      <td>...</td>\n",
       "      <td>...</td>\n",
       "      <td>...</td>\n",
       "      <td>...</td>\n",
       "      <td>...</td>\n",
       "      <td>...</td>\n",
       "      <td>...</td>\n",
       "      <td>...</td>\n",
       "      <td>...</td>\n",
       "      <td>...</td>\n",
       "      <td>...</td>\n",
       "      <td>...</td>\n",
       "      <td>...</td>\n",
       "      <td>...</td>\n",
       "      <td>...</td>\n",
       "      <td>...</td>\n",
       "      <td>...</td>\n",
       "      <td>...</td>\n",
       "    </tr>\n",
       "    <tr>\n",
       "      <th>2017-08-15</th>\n",
       "      <td>3000883</td>\n",
       "      <td>9</td>\n",
       "      <td>POULTRY</td>\n",
       "      <td>438.133</td>\n",
       "      <td>0</td>\n",
       "      <td>Quito</td>\n",
       "      <td>Pichincha</td>\n",
       "      <td>B</td>\n",
       "      <td>6</td>\n",
       "      <td>47.57</td>\n",
       "      <td>...</td>\n",
       "      <td>0</td>\n",
       "      <td>0</td>\n",
       "      <td>0</td>\n",
       "      <td>0</td>\n",
       "      <td>0</td>\n",
       "      <td>0</td>\n",
       "      <td>0</td>\n",
       "      <td>0</td>\n",
       "      <td>0</td>\n",
       "      <td>1</td>\n",
       "    </tr>\n",
       "    <tr>\n",
       "      <th>2017-08-15</th>\n",
       "      <td>3000884</td>\n",
       "      <td>9</td>\n",
       "      <td>PREPARED FOODS</td>\n",
       "      <td>154.553</td>\n",
       "      <td>1</td>\n",
       "      <td>Quito</td>\n",
       "      <td>Pichincha</td>\n",
       "      <td>B</td>\n",
       "      <td>6</td>\n",
       "      <td>47.57</td>\n",
       "      <td>...</td>\n",
       "      <td>0</td>\n",
       "      <td>0</td>\n",
       "      <td>0</td>\n",
       "      <td>0</td>\n",
       "      <td>0</td>\n",
       "      <td>0</td>\n",
       "      <td>0</td>\n",
       "      <td>0</td>\n",
       "      <td>0</td>\n",
       "      <td>1</td>\n",
       "    </tr>\n",
       "    <tr>\n",
       "      <th>2017-08-15</th>\n",
       "      <td>3000885</td>\n",
       "      <td>9</td>\n",
       "      <td>PRODUCE</td>\n",
       "      <td>2419.729</td>\n",
       "      <td>148</td>\n",
       "      <td>Quito</td>\n",
       "      <td>Pichincha</td>\n",
       "      <td>B</td>\n",
       "      <td>6</td>\n",
       "      <td>47.57</td>\n",
       "      <td>...</td>\n",
       "      <td>0</td>\n",
       "      <td>0</td>\n",
       "      <td>0</td>\n",
       "      <td>0</td>\n",
       "      <td>0</td>\n",
       "      <td>0</td>\n",
       "      <td>0</td>\n",
       "      <td>0</td>\n",
       "      <td>0</td>\n",
       "      <td>1</td>\n",
       "    </tr>\n",
       "    <tr>\n",
       "      <th>2017-08-15</th>\n",
       "      <td>3000886</td>\n",
       "      <td>9</td>\n",
       "      <td>SCHOOL AND OFFICE SUPPLIES</td>\n",
       "      <td>121.000</td>\n",
       "      <td>8</td>\n",
       "      <td>Quito</td>\n",
       "      <td>Pichincha</td>\n",
       "      <td>B</td>\n",
       "      <td>6</td>\n",
       "      <td>47.57</td>\n",
       "      <td>...</td>\n",
       "      <td>0</td>\n",
       "      <td>0</td>\n",
       "      <td>0</td>\n",
       "      <td>0</td>\n",
       "      <td>0</td>\n",
       "      <td>0</td>\n",
       "      <td>0</td>\n",
       "      <td>0</td>\n",
       "      <td>0</td>\n",
       "      <td>1</td>\n",
       "    </tr>\n",
       "    <tr>\n",
       "      <th>2017-08-15</th>\n",
       "      <td>3000887</td>\n",
       "      <td>9</td>\n",
       "      <td>SEAFOOD</td>\n",
       "      <td>16.000</td>\n",
       "      <td>0</td>\n",
       "      <td>Quito</td>\n",
       "      <td>Pichincha</td>\n",
       "      <td>B</td>\n",
       "      <td>6</td>\n",
       "      <td>47.57</td>\n",
       "      <td>...</td>\n",
       "      <td>0</td>\n",
       "      <td>0</td>\n",
       "      <td>0</td>\n",
       "      <td>0</td>\n",
       "      <td>0</td>\n",
       "      <td>0</td>\n",
       "      <td>0</td>\n",
       "      <td>0</td>\n",
       "      <td>0</td>\n",
       "      <td>1</td>\n",
       "    </tr>\n",
       "  </tbody>\n",
       "</table>\n",
       "<p>1188594 rows × 207 columns</p>\n",
       "</div>"
      ],
      "text/plain": [
       "                 id  store_nbr                      family     sales  \\\n",
       "date                                                                   \n",
       "2015-11-02  1840806          1                  AUTOMOTIVE     2.000   \n",
       "2015-11-02  1840807          1                   BABY CARE     0.000   \n",
       "2015-11-02  1840808          1                      BEAUTY     0.000   \n",
       "2015-11-02  1840809          1                   BEVERAGES   559.000   \n",
       "2015-11-02  1840810          1                       BOOKS     0.000   \n",
       "...             ...        ...                         ...       ...   \n",
       "2017-08-15  3000883          9                     POULTRY   438.133   \n",
       "2017-08-15  3000884          9              PREPARED FOODS   154.553   \n",
       "2017-08-15  3000885          9                     PRODUCE  2419.729   \n",
       "2017-08-15  3000886          9  SCHOOL AND OFFICE SUPPLIES   121.000   \n",
       "2017-08-15  3000887          9                     SEAFOOD    16.000   \n",
       "\n",
       "            onpromotion   city      state store_type  cluster  dcoilwtico  \\\n",
       "date                                                                        \n",
       "2015-11-02            0  Quito  Pichincha          D       13       46.12   \n",
       "2015-11-02            0  Quito  Pichincha          D       13       46.12   \n",
       "2015-11-02            0  Quito  Pichincha          D       13       46.12   \n",
       "2015-11-02            8  Quito  Pichincha          D       13       46.12   \n",
       "2015-11-02            0  Quito  Pichincha          D       13       46.12   \n",
       "...                 ...    ...        ...        ...      ...         ...   \n",
       "2017-08-15            0  Quito  Pichincha          B        6       47.57   \n",
       "2017-08-15            1  Quito  Pichincha          B        6       47.57   \n",
       "2017-08-15          148  Quito  Pichincha          B        6       47.57   \n",
       "2017-08-15            8  Quito  Pichincha          B        6       47.57   \n",
       "2017-08-15            0  Quito  Pichincha          B        6       47.57   \n",
       "\n",
       "            ... description_Terremoto Manabi+8 description_Terremoto Manabi+9  \\\n",
       "date        ...                                                                 \n",
       "2015-11-02  ...                              0                              0   \n",
       "2015-11-02  ...                              0                              0   \n",
       "2015-11-02  ...                              0                              0   \n",
       "2015-11-02  ...                              0                              0   \n",
       "2015-11-02  ...                              0                              0   \n",
       "...         ...                            ...                            ...   \n",
       "2017-08-15  ...                              0                              0   \n",
       "2017-08-15  ...                              0                              0   \n",
       "2017-08-15  ...                              0                              0   \n",
       "2017-08-15  ...                              0                              0   \n",
       "2017-08-15  ...                              0                              0   \n",
       "\n",
       "           description_Traslado Batalla de Pichincha  \\\n",
       "date                                                   \n",
       "2015-11-02                                         0   \n",
       "2015-11-02                                         0   \n",
       "2015-11-02                                         0   \n",
       "2015-11-02                                         0   \n",
       "2015-11-02                                         0   \n",
       "...                                              ...   \n",
       "2017-08-15                                         0   \n",
       "2017-08-15                                         0   \n",
       "2017-08-15                                         0   \n",
       "2017-08-15                                         0   \n",
       "2017-08-15                                         0   \n",
       "\n",
       "           description_Traslado Fundacion de Guayaquil  \\\n",
       "date                                                     \n",
       "2015-11-02                                           0   \n",
       "2015-11-02                                           0   \n",
       "2015-11-02                                           0   \n",
       "2015-11-02                                           0   \n",
       "2015-11-02                                           0   \n",
       "...                                                ...   \n",
       "2017-08-15                                           0   \n",
       "2017-08-15                                           0   \n",
       "2017-08-15                                           0   \n",
       "2017-08-15                                           0   \n",
       "2017-08-15                                           0   \n",
       "\n",
       "           description_Traslado Primer Grito de Independencia  \\\n",
       "date                                                            \n",
       "2015-11-02                                                  0   \n",
       "2015-11-02                                                  0   \n",
       "2015-11-02                                                  0   \n",
       "2015-11-02                                                  0   \n",
       "2015-11-02                                                  0   \n",
       "...                                                       ...   \n",
       "2017-08-15                                                  0   \n",
       "2017-08-15                                                  0   \n",
       "2017-08-15                                                  0   \n",
       "2017-08-15                                                  0   \n",
       "2017-08-15                                                  0   \n",
       "\n",
       "           description_Traslado Primer dia del ano  description_Viernes Santo  \\\n",
       "date                                                                            \n",
       "2015-11-02                                       0                          0   \n",
       "2015-11-02                                       0                          0   \n",
       "2015-11-02                                       0                          0   \n",
       "2015-11-02                                       0                          0   \n",
       "2015-11-02                                       0                          0   \n",
       "...                                            ...                        ...   \n",
       "2017-08-15                                       0                          0   \n",
       "2017-08-15                                       0                          0   \n",
       "2017-08-15                                       0                          0   \n",
       "2017-08-15                                       0                          0   \n",
       "2017-08-15                                       0                          0   \n",
       "\n",
       "            transferred_True  transferred_False  Wage_date_Wage day  \n",
       "date                                                                 \n",
       "2015-11-02                 0                  0                   0  \n",
       "2015-11-02                 0                  0                   0  \n",
       "2015-11-02                 0                  0                   0  \n",
       "2015-11-02                 0                  0                   0  \n",
       "2015-11-02                 0                  0                   0  \n",
       "...                      ...                ...                 ...  \n",
       "2017-08-15                 0                  0                   1  \n",
       "2017-08-15                 0                  0                   1  \n",
       "2017-08-15                 0                  0                   1  \n",
       "2017-08-15                 0                  0                   1  \n",
       "2017-08-15                 0                  0                   1  \n",
       "\n",
       "[1188594 rows x 207 columns]"
      ]
     },
     "execution_count": 46,
     "metadata": {},
     "output_type": "execute_result"
    }
   ],
   "source": [
    "df_train_st_oil_holid.set_index(\"date\")"
   ]
  },
  {
   "cell_type": "markdown",
   "id": "9dfe56d6",
   "metadata": {},
   "source": [
    "# For now we will use in model training only table from train.csv"
   ]
  },
  {
   "cell_type": "code",
   "execution_count": 47,
   "id": "f2a95a07",
   "metadata": {},
   "outputs": [
    {
     "name": "stdout",
     "output_type": "stream",
     "text": [
      "<class 'pandas.core.frame.DataFrame'>\n",
      "RangeIndex: 1160082 entries, 0 to 1160081\n",
      "Data columns (total 6 columns):\n",
      " #   Column       Non-Null Count    Dtype  \n",
      "---  ------       --------------    -----  \n",
      " 0   id           1160082 non-null  int64  \n",
      " 1   date         1160082 non-null  object \n",
      " 2   store_nbr    1160082 non-null  int64  \n",
      " 3   family       1160082 non-null  object \n",
      " 4   sales        1160082 non-null  float64\n",
      " 5   onpromotion  1160082 non-null  int64  \n",
      "dtypes: float64(1), int64(3), object(2)\n",
      "memory usage: 53.1+ MB\n"
     ]
    }
   ],
   "source": [
    "df_train.info(verbose=True,show_counts=True)"
   ]
  },
  {
   "cell_type": "code",
   "execution_count": null,
   "id": "30e112c5",
   "metadata": {},
   "outputs": [],
   "source": []
  },
  {
   "cell_type": "code",
   "execution_count": 48,
   "id": "d05757b9",
   "metadata": {},
   "outputs": [],
   "source": [
    "df_train[\"date\"]=pd.to_datetime(df_train[\"date\"])"
   ]
  },
  {
   "cell_type": "code",
   "execution_count": 49,
   "id": "4797608e",
   "metadata": {},
   "outputs": [],
   "source": [
    "df_train=df_train.set_index([\"date\",\"store_nbr\",\"family\"])"
   ]
  },
  {
   "cell_type": "code",
   "execution_count": 50,
   "id": "6cbdb7f3",
   "metadata": {},
   "outputs": [
    {
     "data": {
      "text/html": [
       "<div>\n",
       "<style scoped>\n",
       "    .dataframe tbody tr th:only-of-type {\n",
       "        vertical-align: middle;\n",
       "    }\n",
       "\n",
       "    .dataframe tbody tr th {\n",
       "        vertical-align: top;\n",
       "    }\n",
       "\n",
       "    .dataframe thead th {\n",
       "        text-align: right;\n",
       "    }\n",
       "</style>\n",
       "<table border=\"1\" class=\"dataframe\">\n",
       "  <thead>\n",
       "    <tr style=\"text-align: right;\">\n",
       "      <th></th>\n",
       "      <th></th>\n",
       "      <th></th>\n",
       "      <th>id</th>\n",
       "      <th>sales</th>\n",
       "      <th>onpromotion</th>\n",
       "    </tr>\n",
       "    <tr>\n",
       "      <th>date</th>\n",
       "      <th>store_nbr</th>\n",
       "      <th>family</th>\n",
       "      <th></th>\n",
       "      <th></th>\n",
       "      <th></th>\n",
       "    </tr>\n",
       "  </thead>\n",
       "  <tbody>\n",
       "    <tr>\n",
       "      <th rowspan=\"2\" valign=\"top\">2015-11-02</th>\n",
       "      <th rowspan=\"2\" valign=\"top\">1</th>\n",
       "      <th>AUTOMOTIVE</th>\n",
       "      <td>1840806</td>\n",
       "      <td>2.0</td>\n",
       "      <td>0</td>\n",
       "    </tr>\n",
       "    <tr>\n",
       "      <th>BABY CARE</th>\n",
       "      <td>1840807</td>\n",
       "      <td>0.0</td>\n",
       "      <td>0</td>\n",
       "    </tr>\n",
       "  </tbody>\n",
       "</table>\n",
       "</div>"
      ],
      "text/plain": [
       "                                      id  sales  onpromotion\n",
       "date       store_nbr family                                 \n",
       "2015-11-02 1         AUTOMOTIVE  1840806    2.0            0\n",
       "                     BABY CARE   1840807    0.0            0"
      ]
     },
     "execution_count": 50,
     "metadata": {},
     "output_type": "execute_result"
    }
   ],
   "source": [
    "df_train.head(2)"
   ]
  },
  {
   "cell_type": "code",
   "execution_count": 51,
   "id": "ced5c2a1",
   "metadata": {},
   "outputs": [
    {
     "data": {
      "text/html": [
       "<div>\n",
       "<style scoped>\n",
       "    .dataframe tbody tr th:only-of-type {\n",
       "        vertical-align: middle;\n",
       "    }\n",
       "\n",
       "    .dataframe tbody tr th {\n",
       "        vertical-align: top;\n",
       "    }\n",
       "\n",
       "    .dataframe thead th {\n",
       "        text-align: right;\n",
       "    }\n",
       "</style>\n",
       "<table border=\"1\" class=\"dataframe\">\n",
       "  <thead>\n",
       "    <tr style=\"text-align: right;\">\n",
       "      <th></th>\n",
       "      <th>id</th>\n",
       "      <th>sales</th>\n",
       "      <th>onpromotion</th>\n",
       "    </tr>\n",
       "    <tr>\n",
       "      <th>date</th>\n",
       "      <th></th>\n",
       "      <th></th>\n",
       "      <th></th>\n",
       "    </tr>\n",
       "  </thead>\n",
       "  <tbody>\n",
       "    <tr>\n",
       "      <th>2015-11-02</th>\n",
       "      <td>1841696.5</td>\n",
       "      <td>427.917955</td>\n",
       "      <td>0.962402</td>\n",
       "    </tr>\n",
       "    <tr>\n",
       "      <th>2015-11-03</th>\n",
       "      <td>1843478.5</td>\n",
       "      <td>579.932173</td>\n",
       "      <td>2.187430</td>\n",
       "    </tr>\n",
       "    <tr>\n",
       "      <th>2015-11-04</th>\n",
       "      <td>1845260.5</td>\n",
       "      <td>480.075443</td>\n",
       "      <td>5.073513</td>\n",
       "    </tr>\n",
       "    <tr>\n",
       "      <th>2015-11-05</th>\n",
       "      <td>1847042.5</td>\n",
       "      <td>364.569400</td>\n",
       "      <td>1.050505</td>\n",
       "    </tr>\n",
       "    <tr>\n",
       "      <th>2015-11-06</th>\n",
       "      <td>1848824.5</td>\n",
       "      <td>376.625021</td>\n",
       "      <td>4.179574</td>\n",
       "    </tr>\n",
       "    <tr>\n",
       "      <th>...</th>\n",
       "      <td>...</td>\n",
       "      <td>...</td>\n",
       "      <td>...</td>\n",
       "    </tr>\n",
       "    <tr>\n",
       "      <th>2017-08-11</th>\n",
       "      <td>2992868.5</td>\n",
       "      <td>463.733851</td>\n",
       "      <td>7.956790</td>\n",
       "    </tr>\n",
       "    <tr>\n",
       "      <th>2017-08-12</th>\n",
       "      <td>2994650.5</td>\n",
       "      <td>444.798280</td>\n",
       "      <td>4.664422</td>\n",
       "    </tr>\n",
       "    <tr>\n",
       "      <th>2017-08-13</th>\n",
       "      <td>2996432.5</td>\n",
       "      <td>485.768618</td>\n",
       "      <td>5.209315</td>\n",
       "    </tr>\n",
       "    <tr>\n",
       "      <th>2017-08-14</th>\n",
       "      <td>2998214.5</td>\n",
       "      <td>427.004717</td>\n",
       "      <td>4.513468</td>\n",
       "    </tr>\n",
       "    <tr>\n",
       "      <th>2017-08-15</th>\n",
       "      <td>2999996.5</td>\n",
       "      <td>427.980884</td>\n",
       "      <td>5.951178</td>\n",
       "    </tr>\n",
       "  </tbody>\n",
       "</table>\n",
       "<p>651 rows × 3 columns</p>\n",
       "</div>"
      ],
      "text/plain": [
       "                   id       sales  onpromotion\n",
       "date                                          \n",
       "2015-11-02  1841696.5  427.917955     0.962402\n",
       "2015-11-03  1843478.5  579.932173     2.187430\n",
       "2015-11-04  1845260.5  480.075443     5.073513\n",
       "2015-11-05  1847042.5  364.569400     1.050505\n",
       "2015-11-06  1848824.5  376.625021     4.179574\n",
       "...               ...         ...          ...\n",
       "2017-08-11  2992868.5  463.733851     7.956790\n",
       "2017-08-12  2994650.5  444.798280     4.664422\n",
       "2017-08-13  2996432.5  485.768618     5.209315\n",
       "2017-08-14  2998214.5  427.004717     4.513468\n",
       "2017-08-15  2999996.5  427.980884     5.951178\n",
       "\n",
       "[651 rows x 3 columns]"
      ]
     },
     "execution_count": 51,
     "metadata": {},
     "output_type": "execute_result"
    }
   ],
   "source": [
    "df_train.groupby(\"date\").mean()"
   ]
  },
  {
   "cell_type": "code",
   "execution_count": 52,
   "id": "02dcd5fa",
   "metadata": {},
   "outputs": [],
   "source": [
    "df_group=df_train.groupby(\"date\").mean()[\"sales\"]"
   ]
  },
  {
   "cell_type": "code",
   "execution_count": 53,
   "id": "5600db30",
   "metadata": {},
   "outputs": [],
   "source": [
    "df_train=df_group.to_frame()"
   ]
  },
  {
   "cell_type": "code",
   "execution_count": 54,
   "id": "f4512f24",
   "metadata": {},
   "outputs": [
    {
     "data": {
      "text/plain": [
       "651"
      ]
     },
     "execution_count": 54,
     "metadata": {},
     "output_type": "execute_result"
    }
   ],
   "source": [
    "len(df_train)"
   ]
  },
  {
   "cell_type": "code",
   "execution_count": 55,
   "id": "f4445d41",
   "metadata": {},
   "outputs": [
    {
     "data": {
      "text/plain": [
       "28512"
      ]
     },
     "execution_count": 55,
     "metadata": {},
     "output_type": "execute_result"
    }
   ],
   "source": [
    "#Lets also group table for test predictions\n",
    "df_forpred=pd.read_csv(\"test.csv\")\n",
    "len(df_forpred)"
   ]
  },
  {
   "cell_type": "code",
   "execution_count": 56,
   "id": "5c936039",
   "metadata": {},
   "outputs": [
    {
     "data": {
      "text/html": [
       "<div>\n",
       "<style scoped>\n",
       "    .dataframe tbody tr th:only-of-type {\n",
       "        vertical-align: middle;\n",
       "    }\n",
       "\n",
       "    .dataframe tbody tr th {\n",
       "        vertical-align: top;\n",
       "    }\n",
       "\n",
       "    .dataframe thead th {\n",
       "        text-align: right;\n",
       "    }\n",
       "</style>\n",
       "<table border=\"1\" class=\"dataframe\">\n",
       "  <thead>\n",
       "    <tr style=\"text-align: right;\">\n",
       "      <th></th>\n",
       "      <th>id</th>\n",
       "      <th>date</th>\n",
       "      <th>store_nbr</th>\n",
       "      <th>family</th>\n",
       "      <th>onpromotion</th>\n",
       "    </tr>\n",
       "  </thead>\n",
       "  <tbody>\n",
       "    <tr>\n",
       "      <th>0</th>\n",
       "      <td>3000888</td>\n",
       "      <td>2017-08-16</td>\n",
       "      <td>1</td>\n",
       "      <td>AUTOMOTIVE</td>\n",
       "      <td>0</td>\n",
       "    </tr>\n",
       "    <tr>\n",
       "      <th>1</th>\n",
       "      <td>3000889</td>\n",
       "      <td>2017-08-16</td>\n",
       "      <td>1</td>\n",
       "      <td>BABY CARE</td>\n",
       "      <td>0</td>\n",
       "    </tr>\n",
       "    <tr>\n",
       "      <th>2</th>\n",
       "      <td>3000890</td>\n",
       "      <td>2017-08-16</td>\n",
       "      <td>1</td>\n",
       "      <td>BEAUTY</td>\n",
       "      <td>2</td>\n",
       "    </tr>\n",
       "    <tr>\n",
       "      <th>3</th>\n",
       "      <td>3000891</td>\n",
       "      <td>2017-08-16</td>\n",
       "      <td>1</td>\n",
       "      <td>BEVERAGES</td>\n",
       "      <td>20</td>\n",
       "    </tr>\n",
       "    <tr>\n",
       "      <th>4</th>\n",
       "      <td>3000892</td>\n",
       "      <td>2017-08-16</td>\n",
       "      <td>1</td>\n",
       "      <td>BOOKS</td>\n",
       "      <td>0</td>\n",
       "    </tr>\n",
       "    <tr>\n",
       "      <th>...</th>\n",
       "      <td>...</td>\n",
       "      <td>...</td>\n",
       "      <td>...</td>\n",
       "      <td>...</td>\n",
       "      <td>...</td>\n",
       "    </tr>\n",
       "    <tr>\n",
       "      <th>28507</th>\n",
       "      <td>3029395</td>\n",
       "      <td>2017-08-31</td>\n",
       "      <td>9</td>\n",
       "      <td>POULTRY</td>\n",
       "      <td>1</td>\n",
       "    </tr>\n",
       "    <tr>\n",
       "      <th>28508</th>\n",
       "      <td>3029396</td>\n",
       "      <td>2017-08-31</td>\n",
       "      <td>9</td>\n",
       "      <td>PREPARED FOODS</td>\n",
       "      <td>0</td>\n",
       "    </tr>\n",
       "    <tr>\n",
       "      <th>28509</th>\n",
       "      <td>3029397</td>\n",
       "      <td>2017-08-31</td>\n",
       "      <td>9</td>\n",
       "      <td>PRODUCE</td>\n",
       "      <td>1</td>\n",
       "    </tr>\n",
       "    <tr>\n",
       "      <th>28510</th>\n",
       "      <td>3029398</td>\n",
       "      <td>2017-08-31</td>\n",
       "      <td>9</td>\n",
       "      <td>SCHOOL AND OFFICE SUPPLIES</td>\n",
       "      <td>9</td>\n",
       "    </tr>\n",
       "    <tr>\n",
       "      <th>28511</th>\n",
       "      <td>3029399</td>\n",
       "      <td>2017-08-31</td>\n",
       "      <td>9</td>\n",
       "      <td>SEAFOOD</td>\n",
       "      <td>0</td>\n",
       "    </tr>\n",
       "  </tbody>\n",
       "</table>\n",
       "<p>28512 rows × 5 columns</p>\n",
       "</div>"
      ],
      "text/plain": [
       "            id        date  store_nbr                      family  onpromotion\n",
       "0      3000888  2017-08-16          1                  AUTOMOTIVE            0\n",
       "1      3000889  2017-08-16          1                   BABY CARE            0\n",
       "2      3000890  2017-08-16          1                      BEAUTY            2\n",
       "3      3000891  2017-08-16          1                   BEVERAGES           20\n",
       "4      3000892  2017-08-16          1                       BOOKS            0\n",
       "...        ...         ...        ...                         ...          ...\n",
       "28507  3029395  2017-08-31          9                     POULTRY            1\n",
       "28508  3029396  2017-08-31          9              PREPARED FOODS            0\n",
       "28509  3029397  2017-08-31          9                     PRODUCE            1\n",
       "28510  3029398  2017-08-31          9  SCHOOL AND OFFICE SUPPLIES            9\n",
       "28511  3029399  2017-08-31          9                     SEAFOOD            0\n",
       "\n",
       "[28512 rows x 5 columns]"
      ]
     },
     "execution_count": 56,
     "metadata": {},
     "output_type": "execute_result"
    }
   ],
   "source": [
    "df_forpred"
   ]
  },
  {
   "cell_type": "code",
   "execution_count": 57,
   "id": "1f93ce97",
   "metadata": {},
   "outputs": [],
   "source": [
    "df_forpred[\"date\"]=pd.to_datetime(df_forpred[\"date\"])"
   ]
  },
  {
   "cell_type": "code",
   "execution_count": 58,
   "id": "a9662684",
   "metadata": {},
   "outputs": [],
   "source": [
    "df_forpred=df_forpred.set_index([\"date\",\"store_nbr\",\"family\"])"
   ]
  },
  {
   "cell_type": "code",
   "execution_count": 59,
   "id": "10d39221",
   "metadata": {},
   "outputs": [],
   "source": [
    "df_forpred=df_forpred.groupby(\"date\").mean()"
   ]
  },
  {
   "cell_type": "code",
   "execution_count": 60,
   "id": "ad17c79d",
   "metadata": {},
   "outputs": [
    {
     "data": {
      "text/plain": [
       "16"
      ]
     },
     "execution_count": 60,
     "metadata": {},
     "output_type": "execute_result"
    }
   ],
   "source": [
    "len(df_forpred)"
   ]
  },
  {
   "cell_type": "markdown",
   "id": "abc8c483",
   "metadata": {},
   "source": [
    "# Preparing data for model training"
   ]
  },
  {
   "cell_type": "code",
   "execution_count": 61,
   "id": "161d11d7",
   "metadata": {},
   "outputs": [],
   "source": [
    "#We need to predict for 16 days in 2017(2017-08-16 - 2017-08-31)"
   ]
  },
  {
   "cell_type": "code",
   "execution_count": 62,
   "id": "dc40c178",
   "metadata": {},
   "outputs": [],
   "source": [
    "#We select 2 years based on sales plot as function of time\n",
    "df_train=df_train.loc['2015-08-15':'2017-08-15']"
   ]
  },
  {
   "cell_type": "code",
   "execution_count": 63,
   "id": "e00a63d6",
   "metadata": {},
   "outputs": [],
   "source": [
    "df_train = df_train.round(2)"
   ]
  },
  {
   "cell_type": "code",
   "execution_count": 64,
   "id": "da1bc2ee",
   "metadata": {},
   "outputs": [],
   "source": [
    "#We will save data for last 2 months as test sample\n",
    "test_ind=120"
   ]
  },
  {
   "cell_type": "code",
   "execution_count": 65,
   "id": "87f5ffef",
   "metadata": {},
   "outputs": [],
   "source": [
    "train = df_train.iloc[:-test_ind]\n",
    "test = df_train.iloc[-test_ind:]"
   ]
  },
  {
   "cell_type": "code",
   "execution_count": 66,
   "id": "355e24f8",
   "metadata": {},
   "outputs": [
    {
     "data": {
      "text/html": [
       "<div>\n",
       "<style scoped>\n",
       "    .dataframe tbody tr th:only-of-type {\n",
       "        vertical-align: middle;\n",
       "    }\n",
       "\n",
       "    .dataframe tbody tr th {\n",
       "        vertical-align: top;\n",
       "    }\n",
       "\n",
       "    .dataframe thead th {\n",
       "        text-align: right;\n",
       "    }\n",
       "</style>\n",
       "<table border=\"1\" class=\"dataframe\">\n",
       "  <thead>\n",
       "    <tr style=\"text-align: right;\">\n",
       "      <th></th>\n",
       "      <th>sales</th>\n",
       "    </tr>\n",
       "    <tr>\n",
       "      <th>date</th>\n",
       "      <th></th>\n",
       "    </tr>\n",
       "  </thead>\n",
       "  <tbody>\n",
       "    <tr>\n",
       "      <th>2015-11-02</th>\n",
       "      <td>427.92</td>\n",
       "    </tr>\n",
       "    <tr>\n",
       "      <th>2015-11-03</th>\n",
       "      <td>579.93</td>\n",
       "    </tr>\n",
       "    <tr>\n",
       "      <th>2015-11-04</th>\n",
       "      <td>480.08</td>\n",
       "    </tr>\n",
       "    <tr>\n",
       "      <th>2015-11-05</th>\n",
       "      <td>364.57</td>\n",
       "    </tr>\n",
       "    <tr>\n",
       "      <th>2015-11-06</th>\n",
       "      <td>376.63</td>\n",
       "    </tr>\n",
       "    <tr>\n",
       "      <th>...</th>\n",
       "      <td>...</td>\n",
       "    </tr>\n",
       "    <tr>\n",
       "      <th>2017-04-13</th>\n",
       "      <td>413.60</td>\n",
       "    </tr>\n",
       "    <tr>\n",
       "      <th>2017-04-14</th>\n",
       "      <td>415.76</td>\n",
       "    </tr>\n",
       "    <tr>\n",
       "      <th>2017-04-15</th>\n",
       "      <td>504.27</td>\n",
       "    </tr>\n",
       "    <tr>\n",
       "      <th>2017-04-16</th>\n",
       "      <td>553.03</td>\n",
       "    </tr>\n",
       "    <tr>\n",
       "      <th>2017-04-17</th>\n",
       "      <td>435.42</td>\n",
       "    </tr>\n",
       "  </tbody>\n",
       "</table>\n",
       "<p>531 rows × 1 columns</p>\n",
       "</div>"
      ],
      "text/plain": [
       "             sales\n",
       "date              \n",
       "2015-11-02  427.92\n",
       "2015-11-03  579.93\n",
       "2015-11-04  480.08\n",
       "2015-11-05  364.57\n",
       "2015-11-06  376.63\n",
       "...            ...\n",
       "2017-04-13  413.60\n",
       "2017-04-14  415.76\n",
       "2017-04-15  504.27\n",
       "2017-04-16  553.03\n",
       "2017-04-17  435.42\n",
       "\n",
       "[531 rows x 1 columns]"
      ]
     },
     "execution_count": 66,
     "metadata": {},
     "output_type": "execute_result"
    }
   ],
   "source": [
    "train"
   ]
  },
  {
   "cell_type": "markdown",
   "id": "2471b498",
   "metadata": {},
   "source": [
    "# Scale data"
   ]
  },
  {
   "cell_type": "code",
   "execution_count": 67,
   "id": "0210b4aa",
   "metadata": {},
   "outputs": [],
   "source": [
    "from sklearn.preprocessing import MinMaxScaler"
   ]
  },
  {
   "cell_type": "code",
   "execution_count": 68,
   "id": "074eb8ef",
   "metadata": {},
   "outputs": [],
   "source": [
    "scaler=MinMaxScaler()"
   ]
  },
  {
   "cell_type": "code",
   "execution_count": 69,
   "id": "cb0320c1",
   "metadata": {},
   "outputs": [
    {
     "data": {
      "text/plain": [
       "MinMaxScaler()"
      ]
     },
     "execution_count": 69,
     "metadata": {},
     "output_type": "execute_result"
    }
   ],
   "source": [
    "scaler.fit(train)"
   ]
  },
  {
   "cell_type": "code",
   "execution_count": 70,
   "id": "4ae4d018",
   "metadata": {},
   "outputs": [],
   "source": [
    "scaled_train=scaler.transform(train)"
   ]
  },
  {
   "cell_type": "code",
   "execution_count": 71,
   "id": "cc53b248",
   "metadata": {},
   "outputs": [],
   "source": [
    "scaled_test=scaler.transform(test)"
   ]
  },
  {
   "cell_type": "code",
   "execution_count": 72,
   "id": "26d0fe55",
   "metadata": {},
   "outputs": [
    {
     "data": {
      "text/plain": [
       "(531, 1)"
      ]
     },
     "execution_count": 72,
     "metadata": {},
     "output_type": "execute_result"
    }
   ],
   "source": [
    "scaled_train.shape"
   ]
  },
  {
   "cell_type": "markdown",
   "id": "99ae6d7c",
   "metadata": {},
   "source": [
    "# Time Series generator"
   ]
  },
  {
   "cell_type": "code",
   "execution_count": 73,
   "id": "bd24861a",
   "metadata": {},
   "outputs": [],
   "source": [
    "from tensorflow.keras.preprocessing.sequence import TimeseriesGenerator\n",
    "\n",
    "\n",
    "\n",
    "#We are using TimeseriesGenerator class that takes in a sequence of data-points gathered at equal intervals, \n",
    "#along with time series parameters such as stride, length of history, etc., to produce batches for training/validation."
   ]
  },
  {
   "cell_type": "code",
   "execution_count": 74,
   "id": "2c537963",
   "metadata": {},
   "outputs": [],
   "source": [
    "# define generator\n",
    "length = 30 # Length of the output sequences (in number of timesteps)\n",
    "batch_size = 1 #Number of timeseries samples in each batch\n",
    "generator = TimeseriesGenerator(scaled_train, scaled_train, length=length, batch_size=batch_size)"
   ]
  },
  {
   "cell_type": "code",
   "execution_count": 75,
   "id": "509a347a",
   "metadata": {},
   "outputs": [
    {
     "data": {
      "text/plain": [
       "531"
      ]
     },
     "execution_count": 75,
     "metadata": {},
     "output_type": "execute_result"
    }
   ],
   "source": [
    "len(scaled_train)"
   ]
  },
  {
   "cell_type": "code",
   "execution_count": 76,
   "id": "b36d932e",
   "metadata": {},
   "outputs": [
    {
     "data": {
      "text/plain": [
       "501"
      ]
     },
     "execution_count": 76,
     "metadata": {},
     "output_type": "execute_result"
    }
   ],
   "source": [
    "len(generator) "
   ]
  },
  {
   "cell_type": "code",
   "execution_count": 77,
   "id": "0ab4cff8",
   "metadata": {},
   "outputs": [],
   "source": [
    "# What does the first batch look like?\n",
    "X,y = generator[0]"
   ]
  },
  {
   "cell_type": "code",
   "execution_count": 78,
   "id": "e67b1ddb",
   "metadata": {},
   "outputs": [
    {
     "name": "stdout",
     "output_type": "stream",
     "text": [
      "Given the Array: \n",
      "[0.51721216 0.70389929 0.58127111 0.4394105  0.45422168 0.63242247\n",
      " 0.73417255 0.46283083 0.42139392 0.46703101 0.34105005 0.4235677\n",
      " 0.58961007 0.71955788 0.48547743 0.41822536 0.46303961 0.37793061\n",
      " 0.45040221 0.58694504 0.69177771 0.47182069 0.41393921 0.44578446\n",
      " 0.3571876  0.43625422 0.57789377 0.72953024 0.516856   0.58273258]\n",
      "Predict this y: \n",
      " [[0.58937673]]\n"
     ]
    }
   ],
   "source": [
    "print(f'Given the Array: \\n{X.flatten()}')\n",
    "print(f'Predict this y: \\n {y}')"
   ]
  },
  {
   "cell_type": "code",
   "execution_count": 79,
   "id": "93bf41f0",
   "metadata": {},
   "outputs": [
    {
     "data": {
      "text/plain": [
       "array([0.58937673])"
      ]
     },
     "execution_count": 79,
     "metadata": {},
     "output_type": "execute_result"
    }
   ],
   "source": [
    "#Given sales for first 30 rows (X) predict sales on 31th(y)\n",
    "scaled_train[30]"
   ]
  },
  {
   "cell_type": "markdown",
   "id": "833ea092",
   "metadata": {},
   "source": [
    "# Create a model"
   ]
  },
  {
   "cell_type": "code",
   "execution_count": 80,
   "id": "0f02314a",
   "metadata": {},
   "outputs": [],
   "source": [
    "from tensorflow.keras.models import Sequential\n",
    "from tensorflow.keras.layers import Dense,LSTM"
   ]
  },
  {
   "cell_type": "code",
   "execution_count": 81,
   "id": "262bbcb1",
   "metadata": {},
   "outputs": [
    {
     "data": {
      "text/plain": [
       "(531, 1)"
      ]
     },
     "execution_count": 81,
     "metadata": {},
     "output_type": "execute_result"
    }
   ],
   "source": [
    "scaled_train.shape #1 corresponds to number of columns to be predicted"
   ]
  },
  {
   "cell_type": "code",
   "execution_count": 82,
   "id": "febc2dfd",
   "metadata": {},
   "outputs": [],
   "source": [
    "#define model\n",
    "model = Sequential()\n",
    "\n",
    "# Simple RNN layer\n",
    "model.add(LSTM(100,input_shape=(length,scaled_train.shape[1])))\n",
    "\n",
    "# Final Prediction (one neuron per feature)\n",
    "model.add(Dense(scaled_train.shape[1]))\n",
    "\n",
    "model.compile(optimizer='adam', loss='mse')"
   ]
  },
  {
   "cell_type": "code",
   "execution_count": 83,
   "id": "9f5a913a",
   "metadata": {},
   "outputs": [
    {
     "data": {
      "text/plain": [
       "1"
      ]
     },
     "execution_count": 83,
     "metadata": {},
     "output_type": "execute_result"
    }
   ],
   "source": [
    "scaled_train.shape[1]"
   ]
  },
  {
   "cell_type": "code",
   "execution_count": 84,
   "id": "f1e671b9",
   "metadata": {},
   "outputs": [
    {
     "name": "stdout",
     "output_type": "stream",
     "text": [
      "Model: \"sequential\"\n",
      "_________________________________________________________________\n",
      " Layer (type)                Output Shape              Param #   \n",
      "=================================================================\n",
      " lstm (LSTM)                 (None, 100)               40800     \n",
      "                                                                 \n",
      " dense (Dense)               (None, 1)                 101       \n",
      "                                                                 \n",
      "=================================================================\n",
      "Total params: 40,901\n",
      "Trainable params: 40,901\n",
      "Non-trainable params: 0\n",
      "_________________________________________________________________\n"
     ]
    }
   ],
   "source": [
    "model.summary()"
   ]
  },
  {
   "cell_type": "code",
   "execution_count": 85,
   "id": "3d4b4172",
   "metadata": {},
   "outputs": [],
   "source": [
    "from tensorflow.keras.callbacks import EarlyStopping\n",
    "\n",
    "early_stop = EarlyStopping(monitor='val_loss',patience=1)\n",
    "validation_generator = TimeseriesGenerator(scaled_test,scaled_test,length=length, batch_size=batch_size)"
   ]
  },
  {
   "cell_type": "code",
   "execution_count": 86,
   "id": "d11bf971",
   "metadata": {},
   "outputs": [
    {
     "name": "stdout",
     "output_type": "stream",
     "text": [
      "Epoch 1/10\n"
     ]
    },
    {
     "name": "stderr",
     "output_type": "stream",
     "text": [
      "C:\\Users\\17573\\anaconda3\\envs\\myenv\\lib\\site-packages\\ipykernel_launcher.py:3: UserWarning: `Model.fit_generator` is deprecated and will be removed in a future version. Please use `Model.fit`, which supports generators.\n",
      "  This is separate from the ipykernel package so we can avoid doing imports until\n"
     ]
    },
    {
     "name": "stdout",
     "output_type": "stream",
     "text": [
      "501/501 [==============================] - 6s 8ms/step - loss: 0.0215 - val_loss: 0.0140\n",
      "Epoch 2/10\n",
      "501/501 [==============================] - 4s 9ms/step - loss: 0.0166 - val_loss: 0.0143\n"
     ]
    },
    {
     "data": {
      "text/plain": [
       "<keras.callbacks.History at 0x1d731038e88>"
      ]
     },
     "execution_count": 86,
     "metadata": {},
     "output_type": "execute_result"
    }
   ],
   "source": [
    "model.fit_generator(generator,epochs=10,\n",
    "                    validation_data=validation_generator,\n",
    "                   callbacks=[early_stop])"
   ]
  },
  {
   "cell_type": "code",
   "execution_count": 87,
   "id": "56951ab5",
   "metadata": {},
   "outputs": [
    {
     "data": {
      "text/plain": [
       "dict_keys(['loss', 'val_loss'])"
      ]
     },
     "execution_count": 87,
     "metadata": {},
     "output_type": "execute_result"
    }
   ],
   "source": [
    "model.history.history.keys()"
   ]
  },
  {
   "cell_type": "code",
   "execution_count": 88,
   "id": "d36e625b",
   "metadata": {},
   "outputs": [
    {
     "data": {
      "text/plain": [
       "<AxesSubplot:>"
      ]
     },
     "execution_count": 88,
     "metadata": {},
     "output_type": "execute_result"
    },
    {
     "data": {
      "image/png": "[encoded data removed]",
      "text/plain": [
       "<Figure size 640x480 with 1 Axes>"
      ]
     },
     "metadata": {},
     "output_type": "display_data"
    }
   ],
   "source": [
    "losses = pd.DataFrame(model.history.history)\n",
    "losses.plot()"
   ]
  },
  {
   "cell_type": "markdown",
   "id": "1e16c317",
   "metadata": {},
   "source": [
    "# Evaluate"
   ]
  },
  {
   "cell_type": "code",
   "execution_count": 89,
   "id": "c8c67e9e",
   "metadata": {},
   "outputs": [],
   "source": [
    "first_eval_batch = scaled_train[-length:]"
   ]
  },
  {
   "cell_type": "code",
   "execution_count": 90,
   "id": "e1502523",
   "metadata": {},
   "outputs": [],
   "source": [
    "first_eval_batch = first_eval_batch.reshape((1, length, scaled_train.shape[1]))"
   ]
  },
  {
   "cell_type": "code",
   "execution_count": 91,
   "id": "5867032d",
   "metadata": {},
   "outputs": [
    {
     "name": "stdout",
     "output_type": "stream",
     "text": [
      "1/1 [==============================] - 0s 442ms/step\n"
     ]
    },
    {
     "data": {
      "text/plain": [
       "array([[0.6116701]], dtype=float32)"
      ]
     },
     "execution_count": 91,
     "metadata": {},
     "output_type": "execute_result"
    }
   ],
   "source": [
    "model.predict(first_eval_batch)"
   ]
  },
  {
   "cell_type": "code",
   "execution_count": 92,
   "id": "204d7ada",
   "metadata": {},
   "outputs": [
    {
     "data": {
      "text/plain": [
       "array([0.4859564])"
      ]
     },
     "execution_count": 92,
     "metadata": {},
     "output_type": "execute_result"
    }
   ],
   "source": [
    "scaled_test[0]"
   ]
  },
  {
   "cell_type": "markdown",
   "id": "d8f8b21f",
   "metadata": {},
   "source": [
    "### Lets predict into entire test range"
   ]
  },
  {
   "cell_type": "code",
   "execution_count": 93,
   "id": "7363f1ff",
   "metadata": {},
   "outputs": [
    {
     "name": "stdout",
     "output_type": "stream",
     "text": [
      "1/1 [==============================] - 0s 19ms/step\n",
      "1/1 [==============================] - 0s 17ms/step\n",
      "1/1 [==============================] - 0s 17ms/step\n",
      "1/1 [==============================] - 0s 18ms/step\n",
      "1/1 [==============================] - 0s 17ms/step\n",
      "1/1 [==============================] - 0s 17ms/step\n",
      "1/1 [==============================] - 0s 19ms/step\n",
      "1/1 [==============================] - 0s 18ms/step\n",
      "1/1 [==============================] - 0s 18ms/step\n",
      "1/1 [==============================] - 0s 17ms/step\n",
      "1/1 [==============================] - 0s 17ms/step\n",
      "1/1 [==============================] - 0s 17ms/step\n",
      "1/1 [==============================] - 0s 17ms/step\n",
      "1/1 [==============================] - 0s 18ms/step\n",
      "1/1 [==============================] - 0s 17ms/step\n",
      "1/1 [==============================] - 0s 17ms/step\n",
      "1/1 [==============================] - 0s 17ms/step\n",
      "1/1 [==============================] - 0s 17ms/step\n",
      "1/1 [==============================] - 0s 18ms/step\n",
      "1/1 [==============================] - 0s 18ms/step\n",
      "1/1 [==============================] - 0s 18ms/step\n",
      "1/1 [==============================] - 0s 18ms/step\n",
      "1/1 [==============================] - 0s 20ms/step\n",
      "1/1 [==============================] - 0s 17ms/step\n",
      "1/1 [==============================] - 0s 16ms/step\n",
      "1/1 [==============================] - 0s 17ms/step\n",
      "1/1 [==============================] - 0s 17ms/step\n",
      "1/1 [==============================] - 0s 17ms/step\n",
      "1/1 [==============================] - 0s 17ms/step\n",
      "1/1 [==============================] - 0s 17ms/step\n",
      "1/1 [==============================] - 0s 17ms/step\n",
      "1/1 [==============================] - 0s 18ms/step\n",
      "1/1 [==============================] - 0s 18ms/step\n",
      "1/1 [==============================] - 0s 17ms/step\n",
      "1/1 [==============================] - 0s 18ms/step\n",
      "1/1 [==============================] - 0s 18ms/step\n",
      "1/1 [==============================] - 0s 17ms/step\n",
      "1/1 [==============================] - 0s 18ms/step\n",
      "1/1 [==============================] - 0s 18ms/step\n",
      "1/1 [==============================] - 0s 18ms/step\n",
      "1/1 [==============================] - 0s 17ms/step\n",
      "1/1 [==============================] - 0s 18ms/step\n",
      "1/1 [==============================] - 0s 17ms/step\n",
      "1/1 [==============================] - 0s 18ms/step\n",
      "1/1 [==============================] - 0s 17ms/step\n",
      "1/1 [==============================] - 0s 18ms/step\n",
      "1/1 [==============================] - 0s 17ms/step\n",
      "1/1 [==============================] - 0s 18ms/step\n",
      "1/1 [==============================] - 0s 18ms/step\n",
      "1/1 [==============================] - 0s 18ms/step\n",
      "1/1 [==============================] - 0s 18ms/step\n",
      "1/1 [==============================] - 0s 17ms/step\n",
      "1/1 [==============================] - 0s 18ms/step\n",
      "1/1 [==============================] - 0s 21ms/step\n",
      "1/1 [==============================] - 0s 20ms/step\n",
      "1/1 [==============================] - 0s 17ms/step\n",
      "1/1 [==============================] - 0s 18ms/step\n",
      "1/1 [==============================] - 0s 18ms/step\n",
      "1/1 [==============================] - 0s 17ms/step\n",
      "1/1 [==============================] - 0s 19ms/step\n",
      "1/1 [==============================] - 0s 18ms/step\n",
      "1/1 [==============================] - 0s 20ms/step\n",
      "1/1 [==============================] - 0s 17ms/step\n",
      "1/1 [==============================] - 0s 18ms/step\n",
      "1/1 [==============================] - 0s 17ms/step\n",
      "1/1 [==============================] - 0s 18ms/step\n",
      "1/1 [==============================] - 0s 17ms/step\n",
      "1/1 [==============================] - 0s 19ms/step\n",
      "1/1 [==============================] - 0s 16ms/step\n",
      "1/1 [==============================] - 0s 18ms/step\n",
      "1/1 [==============================] - 0s 18ms/step\n",
      "1/1 [==============================] - 0s 17ms/step\n",
      "1/1 [==============================] - 0s 17ms/step\n",
      "1/1 [==============================] - 0s 17ms/step\n",
      "1/1 [==============================] - 0s 17ms/step\n",
      "1/1 [==============================] - 0s 17ms/step\n",
      "1/1 [==============================] - 0s 18ms/step\n",
      "1/1 [==============================] - 0s 18ms/step\n",
      "1/1 [==============================] - 0s 18ms/step\n",
      "1/1 [==============================] - 0s 18ms/step\n",
      "1/1 [==============================] - 0s 18ms/step\n",
      "1/1 [==============================] - 0s 17ms/step\n",
      "1/1 [==============================] - 0s 21ms/step\n",
      "1/1 [==============================] - 0s 20ms/step\n",
      "1/1 [==============================] - 0s 19ms/step\n",
      "1/1 [==============================] - 0s 18ms/step\n",
      "1/1 [==============================] - 0s 18ms/step\n",
      "1/1 [==============================] - 0s 17ms/step\n",
      "1/1 [==============================] - 0s 19ms/step\n",
      "1/1 [==============================] - 0s 18ms/step\n",
      "1/1 [==============================] - 0s 17ms/step\n",
      "1/1 [==============================] - 0s 17ms/step\n",
      "1/1 [==============================] - 0s 18ms/step\n",
      "1/1 [==============================] - 0s 17ms/step\n",
      "1/1 [==============================] - 0s 17ms/step\n",
      "1/1 [==============================] - 0s 18ms/step\n",
      "1/1 [==============================] - 0s 18ms/step\n",
      "1/1 [==============================] - 0s 18ms/step\n",
      "1/1 [==============================] - 0s 18ms/step\n",
      "1/1 [==============================] - 0s 18ms/step\n",
      "1/1 [==============================] - 0s 18ms/step\n",
      "1/1 [==============================] - 0s 18ms/step\n",
      "1/1 [==============================] - 0s 18ms/step\n",
      "1/1 [==============================] - 0s 19ms/step\n",
      "1/1 [==============================] - 0s 17ms/step\n",
      "1/1 [==============================] - 0s 17ms/step\n",
      "1/1 [==============================] - 0s 19ms/step\n",
      "1/1 [==============================] - 0s 19ms/step\n",
      "1/1 [==============================] - 0s 23ms/step\n",
      "1/1 [==============================] - 0s 20ms/step\n",
      "1/1 [==============================] - 0s 19ms/step\n",
      "1/1 [==============================] - 0s 18ms/step\n",
      "1/1 [==============================] - 0s 18ms/step\n",
      "1/1 [==============================] - 0s 18ms/step\n",
      "1/1 [==============================] - 0s 18ms/step\n",
      "1/1 [==============================] - 0s 19ms/step\n",
      "1/1 [==============================] - 0s 18ms/step\n",
      "1/1 [==============================] - 0s 18ms/step\n",
      "1/1 [==============================] - 0s 18ms/step\n",
      "1/1 [==============================] - 0s 18ms/step\n"
     ]
    }
   ],
   "source": [
    "n_features = scaled_train.shape[1]\n",
    "test_predictions = []\n",
    "\n",
    "first_eval_batch = scaled_train[-length:]\n",
    "current_batch = first_eval_batch.reshape((1, length, n_features))\n",
    "\n",
    "for i in range(len(test)):\n",
    "    \n",
    "    # get prediction 1 time stamp ahead ([0] is for grabbing just the number instead of [array])\n",
    "    current_pred = model.predict(current_batch)[0]\n",
    "    \n",
    "    # store prediction\n",
    "    test_predictions.append(current_pred) \n",
    "    \n",
    "    # update batch to now include prediction and drop first value\n",
    "    current_batch = np.append(current_batch[:,1:,:],[[current_pred]],axis=1)"
   ]
  },
  {
   "cell_type": "code",
   "execution_count": 94,
   "id": "99d818fa",
   "metadata": {},
   "outputs": [
    {
     "data": {
      "text/plain": [
       "[array([0.6116701], dtype=float32),\n",
       " array([0.6193182], dtype=float32),\n",
       " array([0.6224275], dtype=float32),\n",
       " array([0.6253198], dtype=float32),\n",
       " array([0.62845135], dtype=float32),\n",
       " array([0.6319759], dtype=float32),\n",
       " array([0.6358148], dtype=float32),\n",
       " array([0.63979274], dtype=float32),\n",
       " array([0.64375174], dtype=float32),\n",
       " array([0.64760745], dtype=float32),\n",
       " array([0.65127474], dtype=float32),\n",
       " array([0.65467143], dtype=float32),\n",
       " array([0.6577852], dtype=float32),\n",
       " array([0.66057473], dtype=float32),\n",
       " array([0.6629758], dtype=float32),\n",
       " array([0.66505986], dtype=float32),\n",
       " array([0.6669053], dtype=float32),\n",
       " array([0.6685421], dtype=float32),\n",
       " array([0.6699922], dtype=float32),\n",
       " array([0.67129624], dtype=float32),\n",
       " array([0.67245984], dtype=float32),\n",
       " array([0.67346936], dtype=float32),\n",
       " array([0.6743287], dtype=float32),\n",
       " array([0.675101], dtype=float32),\n",
       " array([0.67580056], dtype=float32),\n",
       " array([0.6764281], dtype=float32),\n",
       " array([0.6769962], dtype=float32),\n",
       " array([0.6775091], dtype=float32),\n",
       " array([0.6779542], dtype=float32),\n",
       " array([0.67832726], dtype=float32),\n",
       " array([0.67866147], dtype=float32),\n",
       " array([0.6789516], dtype=float32),\n",
       " array([0.67920125], dtype=float32),\n",
       " array([0.6794163], dtype=float32),\n",
       " array([0.6796017], dtype=float32),\n",
       " array([0.67976224], dtype=float32),\n",
       " array([0.67990124], dtype=float32),\n",
       " array([0.680022], dtype=float32),\n",
       " array([0.6801268], dtype=float32),\n",
       " array([0.68021744], dtype=float32),\n",
       " array([0.68029565], dtype=float32),\n",
       " array([0.6803631], dtype=float32),\n",
       " array([0.680421], dtype=float32),\n",
       " array([0.68047094], dtype=float32),\n",
       " array([0.68051314], dtype=float32),\n",
       " array([0.6805489], dtype=float32),\n",
       " array([0.6805793], dtype=float32),\n",
       " array([0.6806053], dtype=float32),\n",
       " array([0.68062705], dtype=float32),\n",
       " array([0.6806453], dtype=float32),\n",
       " array([0.68066067], dtype=float32),\n",
       " array([0.68067366], dtype=float32),\n",
       " array([0.6806843], dtype=float32),\n",
       " array([0.6806932], dtype=float32),\n",
       " array([0.68070054], dtype=float32),\n",
       " array([0.680707], dtype=float32),\n",
       " array([0.68071187], dtype=float32),\n",
       " array([0.6807163], dtype=float32),\n",
       " array([0.6807194], dtype=float32),\n",
       " array([0.6807221], dtype=float32),\n",
       " array([0.6807243], dtype=float32),\n",
       " array([0.68072605], dtype=float32),\n",
       " array([0.6807274], dtype=float32),\n",
       " array([0.6807283], dtype=float32),\n",
       " array([0.6807292], dtype=float32),\n",
       " array([0.6807298], dtype=float32),\n",
       " array([0.6807302], dtype=float32),\n",
       " array([0.6807304], dtype=float32),\n",
       " array([0.6807305], dtype=float32),\n",
       " array([0.6807304], dtype=float32),\n",
       " array([0.6807305], dtype=float32),\n",
       " array([0.6807304], dtype=float32),\n",
       " array([0.68073034], dtype=float32),\n",
       " array([0.6807303], dtype=float32),\n",
       " array([0.6807301], dtype=float32),\n",
       " array([0.68073], dtype=float32),\n",
       " array([0.6807298], dtype=float32),\n",
       " array([0.6807297], dtype=float32),\n",
       " array([0.6807294], dtype=float32),\n",
       " array([0.68072915], dtype=float32),\n",
       " array([0.6807291], dtype=float32),\n",
       " array([0.68072885], dtype=float32),\n",
       " array([0.68072873], dtype=float32),\n",
       " array([0.6807286], dtype=float32),\n",
       " array([0.6807286], dtype=float32),\n",
       " array([0.68072855], dtype=float32),\n",
       " array([0.68072844], dtype=float32),\n",
       " array([0.6807283], dtype=float32),\n",
       " array([0.68072826], dtype=float32),\n",
       " array([0.68072814], dtype=float32),\n",
       " array([0.680728], dtype=float32),\n",
       " array([0.68072796], dtype=float32),\n",
       " array([0.6807279], dtype=float32),\n",
       " array([0.6807279], dtype=float32),\n",
       " array([0.6807278], dtype=float32),\n",
       " array([0.6807278], dtype=float32),\n",
       " array([0.6807277], dtype=float32),\n",
       " array([0.6807277], dtype=float32),\n",
       " array([0.6807276], dtype=float32),\n",
       " array([0.68072754], dtype=float32),\n",
       " array([0.68072754], dtype=float32),\n",
       " array([0.6807275], dtype=float32),\n",
       " array([0.6807275], dtype=float32),\n",
       " array([0.6807275], dtype=float32),\n",
       " array([0.6807275], dtype=float32),\n",
       " array([0.6807275], dtype=float32),\n",
       " array([0.6807275], dtype=float32),\n",
       " array([0.6807275], dtype=float32),\n",
       " array([0.6807275], dtype=float32),\n",
       " array([0.6807275], dtype=float32),\n",
       " array([0.6807275], dtype=float32),\n",
       " array([0.6807274], dtype=float32),\n",
       " array([0.6807275], dtype=float32),\n",
       " array([0.6807274], dtype=float32),\n",
       " array([0.6807274], dtype=float32),\n",
       " array([0.6807274], dtype=float32),\n",
       " array([0.6807275], dtype=float32),\n",
       " array([0.6807275], dtype=float32),\n",
       " array([0.6807275], dtype=float32),\n",
       " array([0.6807274], dtype=float32)]"
      ]
     },
     "execution_count": 94,
     "metadata": {},
     "output_type": "execute_result"
    }
   ],
   "source": [
    "test_predictions"
   ]
  },
  {
   "cell_type": "code",
   "execution_count": 95,
   "id": "b46b04ca",
   "metadata": {},
   "outputs": [
    {
     "data": {
      "text/plain": [
       "array([[0.4859564 ],\n",
       "       [0.49872889],\n",
       "       [0.45742708],\n",
       "       [0.54011667],\n",
       "       [0.66359226],\n",
       "       [0.77739024],\n",
       "       [0.51205404],\n",
       "       [0.48719681],\n",
       "       [0.53003377],\n",
       "       [0.42235186],\n",
       "       [0.54139392],\n",
       "       [0.72790912],\n",
       "       [0.70927848],\n",
       "       [0.89223212],\n",
       "       [0.61698496],\n",
       "       [0.62865213],\n",
       "       [0.48557568],\n",
       "       [0.52978815],\n",
       "       [0.70802579],\n",
       "       [0.83756831],\n",
       "       [0.52669328],\n",
       "       [0.48499846],\n",
       "       [0.51965613],\n",
       "       [0.43871047],\n",
       "       [0.51877188],\n",
       "       [0.76147375],\n",
       "       [0.60104391],\n",
       "       [0.55889469],\n",
       "       [0.54839423],\n",
       "       [0.57155665],\n",
       "       [0.42482039],\n",
       "       [0.52494934],\n",
       "       [0.70543445],\n",
       "       [0.8200307 ],\n",
       "       [0.52849862],\n",
       "       [0.49005834],\n",
       "       [0.50601167],\n",
       "       [0.41903592],\n",
       "       [0.67018729],\n",
       "       [0.63414185],\n",
       "       [0.72342647],\n",
       "       [0.52703715],\n",
       "       [0.5033712 ],\n",
       "       [0.58303961],\n",
       "       [0.52018422],\n",
       "       [0.62463617],\n",
       "       [0.80224747],\n",
       "       [0.94033773],\n",
       "       [0.62068161],\n",
       "       [0.54684679],\n",
       "       [0.5726374 ],\n",
       "       [0.45142155],\n",
       "       [0.53964998],\n",
       "       [0.67653669],\n",
       "       [0.82811176],\n",
       "       [0.52120356],\n",
       "       [0.49436905],\n",
       "       [0.5332883 ],\n",
       "       [0.44676696],\n",
       "       [0.56698803],\n",
       "       [0.7471047 ],\n",
       "       [0.65683758],\n",
       "       [0.53692355],\n",
       "       [0.53428308],\n",
       "       [0.51969297],\n",
       "       [0.41198649],\n",
       "       [0.51618053],\n",
       "       [0.65553577],\n",
       "       [0.74468529],\n",
       "       [0.51226282],\n",
       "       [0.46184833],\n",
       "       [0.49608842],\n",
       "       [0.42641695],\n",
       "       [0.54458704],\n",
       "       [0.82388701],\n",
       "       [0.88512128],\n",
       "       [0.6292662 ],\n",
       "       [0.56531778],\n",
       "       [0.57354621],\n",
       "       [0.47428922],\n",
       "       [0.54700645],\n",
       "       [0.67971753],\n",
       "       [0.75034695],\n",
       "       [0.54588885],\n",
       "       [0.49514277],\n",
       "       [0.50773104],\n",
       "       [0.42561867],\n",
       "       [0.51923856],\n",
       "       [0.65953945],\n",
       "       [0.75032238],\n",
       "       [0.55565244],\n",
       "       [0.49487258],\n",
       "       [0.52094566],\n",
       "       [0.46602395],\n",
       "       [0.53090574],\n",
       "       [0.63460854],\n",
       "       [0.69759902],\n",
       "       [0.5544366 ],\n",
       "       [0.48346331],\n",
       "       [0.50211851],\n",
       "       [0.44643537],\n",
       "       [0.56720909],\n",
       "       [0.70312558],\n",
       "       [0.76614062],\n",
       "       [0.60218606],\n",
       "       [0.67295057],\n",
       "       [0.65653055],\n",
       "       [0.49344796],\n",
       "       [0.5621615 ],\n",
       "       [0.6572183 ],\n",
       "       [0.71501382],\n",
       "       [0.54127111],\n",
       "       [0.4863494 ],\n",
       "       [0.49763586],\n",
       "       [0.44060178],\n",
       "       [0.56119128],\n",
       "       [0.53794289],\n",
       "       [0.58825913],\n",
       "       [0.51608228],\n",
       "       [0.51728585]])"
      ]
     },
     "execution_count": 95,
     "metadata": {},
     "output_type": "execute_result"
    }
   ],
   "source": [
    "scaled_test"
   ]
  },
  {
   "cell_type": "code",
   "execution_count": 96,
   "id": "77e5c252",
   "metadata": {},
   "outputs": [],
   "source": [
    "#Inverse transformation and comparision"
   ]
  },
  {
   "cell_type": "code",
   "execution_count": 97,
   "id": "54b888e2",
   "metadata": {},
   "outputs": [],
   "source": [
    "true_predictions = scaler.inverse_transform(test_predictions)"
   ]
  },
  {
   "cell_type": "code",
   "execution_count": 98,
   "id": "5ba42187",
   "metadata": {},
   "outputs": [
    {
     "data": {
      "text/plain": [
       "array([[504.83236007],\n",
       "       [511.05983396],\n",
       "       [513.59161071],\n",
       "       [515.94662998],\n",
       "       [518.49650958],\n",
       "       [521.36636779],\n",
       "       [524.49218947],\n",
       "       [527.73123883],\n",
       "       [530.95485467],\n",
       "       [534.09436267],\n",
       "       [537.08045761],\n",
       "       [539.84621236],\n",
       "       [542.38158056],\n",
       "       [544.65297733],\n",
       "       [546.60803547],\n",
       "       [548.30499469],\n",
       "       [549.80762744],\n",
       "       [551.1403944 ],\n",
       "       [552.32115576],\n",
       "       [553.38296252],\n",
       "       [554.33042535],\n",
       "       [555.15243016],\n",
       "       [555.8521316 ],\n",
       "       [556.48097475],\n",
       "       [557.05060753],\n",
       "       [557.56156382],\n",
       "       [558.02413262],\n",
       "       [558.44180833],\n",
       "       [558.80420485],\n",
       "       [559.10797341],\n",
       "       [559.3800984 ],\n",
       "       [559.61635744],\n",
       "       [559.81961399],\n",
       "       [559.99472135],\n",
       "       [560.14570777],\n",
       "       [560.27640736],\n",
       "       [560.38958651],\n",
       "       [560.48791453],\n",
       "       [560.57323569],\n",
       "       [560.64705451],\n",
       "       [560.71072991],\n",
       "       [560.76566936],\n",
       "       [560.81279498],\n",
       "       [560.8534657 ],\n",
       "       [560.88782713],\n",
       "       [560.91694698],\n",
       "       [560.94169885],\n",
       "       [560.96285927],\n",
       "       [560.98057385],\n",
       "       [560.99542497],\n",
       "       [561.0079465 ],\n",
       "       [561.01852672],\n",
       "       [561.02721414],\n",
       "       [561.03444557],\n",
       "       [561.04041514],\n",
       "       [561.04565671],\n",
       "       [561.04963642],\n",
       "       [561.05322787],\n",
       "       [561.05575159],\n",
       "       [561.05798411],\n",
       "       [561.05977984],\n",
       "       [561.0611873 ],\n",
       "       [561.06230356],\n",
       "       [561.06303155],\n",
       "       [561.06375955],\n",
       "       [561.06424488],\n",
       "       [561.06458461],\n",
       "       [561.06473021],\n",
       "       [561.06482728],\n",
       "       [561.06473021],\n",
       "       [561.06482728],\n",
       "       [561.06473021],\n",
       "       [561.06468168],\n",
       "       [561.06463314],\n",
       "       [561.06448755],\n",
       "       [561.06439048],\n",
       "       [561.06424488],\n",
       "       [561.06414781],\n",
       "       [561.06390515],\n",
       "       [561.06371102],\n",
       "       [561.06366248],\n",
       "       [561.06346835],\n",
       "       [561.06337128],\n",
       "       [561.06327422],\n",
       "       [561.06327422],\n",
       "       [561.06322569],\n",
       "       [561.06312862],\n",
       "       [561.06303155],\n",
       "       [561.06298302],\n",
       "       [561.06288595],\n",
       "       [561.06278889],\n",
       "       [561.06274035],\n",
       "       [561.06269182],\n",
       "       [561.06269182],\n",
       "       [561.06259476],\n",
       "       [561.06259476],\n",
       "       [561.06254622],\n",
       "       [561.06254622],\n",
       "       [561.06244916],\n",
       "       [561.06240062],\n",
       "       [561.06240062],\n",
       "       [561.06235209],\n",
       "       [561.06235209],\n",
       "       [561.06235209],\n",
       "       [561.06235209],\n",
       "       [561.06235209],\n",
       "       [561.06235209],\n",
       "       [561.06235209],\n",
       "       [561.06235209],\n",
       "       [561.06235209],\n",
       "       [561.06235209],\n",
       "       [561.06230356],\n",
       "       [561.06235209],\n",
       "       [561.06230356],\n",
       "       [561.06230356],\n",
       "       [561.06230356],\n",
       "       [561.06235209],\n",
       "       [561.06235209],\n",
       "       [561.06235209],\n",
       "       [561.06230356]])"
      ]
     },
     "execution_count": 98,
     "metadata": {},
     "output_type": "execute_result"
    }
   ],
   "source": [
    "true_predictions"
   ]
  },
  {
   "cell_type": "code",
   "execution_count": 99,
   "id": "54aded1d",
   "metadata": {},
   "outputs": [
    {
     "data": {
      "text/plain": [
       "date\n",
       "2017-04-18    402.47\n",
       "2017-04-19    412.87\n",
       "2017-04-20    379.24\n",
       "2017-04-21    446.57\n",
       "2017-04-22    547.11\n",
       "               ...  \n",
       "2017-08-11    463.73\n",
       "2017-08-12    444.80\n",
       "2017-08-13    485.77\n",
       "2017-08-14    427.00\n",
       "2017-08-15    427.98\n",
       "Name: sales, Length: 120, dtype: float64"
      ]
     },
     "execution_count": 99,
     "metadata": {},
     "output_type": "execute_result"
    }
   ],
   "source": [
    "test[\"sales\"]"
   ]
  },
  {
   "cell_type": "code",
   "execution_count": 100,
   "id": "74e9b4ed",
   "metadata": {},
   "outputs": [],
   "source": [
    "true_predictions = pd.DataFrame(data=true_predictions,columns=test.columns)"
   ]
  },
  {
   "cell_type": "code",
   "execution_count": 101,
   "id": "7a465a5f",
   "metadata": {},
   "outputs": [],
   "source": [
    "true_predictions.index=test.index"
   ]
  },
  {
   "cell_type": "code",
   "execution_count": 102,
   "id": "192dcaf3",
   "metadata": {},
   "outputs": [
    {
     "data": {
      "text/html": [
       "<div>\n",
       "<style scoped>\n",
       "    .dataframe tbody tr th:only-of-type {\n",
       "        vertical-align: middle;\n",
       "    }\n",
       "\n",
       "    .dataframe tbody tr th {\n",
       "        vertical-align: top;\n",
       "    }\n",
       "\n",
       "    .dataframe thead th {\n",
       "        text-align: right;\n",
       "    }\n",
       "</style>\n",
       "<table border=\"1\" class=\"dataframe\">\n",
       "  <thead>\n",
       "    <tr style=\"text-align: right;\">\n",
       "      <th></th>\n",
       "      <th>sales</th>\n",
       "    </tr>\n",
       "    <tr>\n",
       "      <th>date</th>\n",
       "      <th></th>\n",
       "    </tr>\n",
       "  </thead>\n",
       "  <tbody>\n",
       "    <tr>\n",
       "      <th>2017-04-18</th>\n",
       "      <td>504.832360</td>\n",
       "    </tr>\n",
       "    <tr>\n",
       "      <th>2017-04-19</th>\n",
       "      <td>511.059834</td>\n",
       "    </tr>\n",
       "    <tr>\n",
       "      <th>2017-04-20</th>\n",
       "      <td>513.591611</td>\n",
       "    </tr>\n",
       "    <tr>\n",
       "      <th>2017-04-21</th>\n",
       "      <td>515.946630</td>\n",
       "    </tr>\n",
       "    <tr>\n",
       "      <th>2017-04-22</th>\n",
       "      <td>518.496510</td>\n",
       "    </tr>\n",
       "    <tr>\n",
       "      <th>...</th>\n",
       "      <td>...</td>\n",
       "    </tr>\n",
       "    <tr>\n",
       "      <th>2017-08-11</th>\n",
       "      <td>561.062304</td>\n",
       "    </tr>\n",
       "    <tr>\n",
       "      <th>2017-08-12</th>\n",
       "      <td>561.062352</td>\n",
       "    </tr>\n",
       "    <tr>\n",
       "      <th>2017-08-13</th>\n",
       "      <td>561.062352</td>\n",
       "    </tr>\n",
       "    <tr>\n",
       "      <th>2017-08-14</th>\n",
       "      <td>561.062352</td>\n",
       "    </tr>\n",
       "    <tr>\n",
       "      <th>2017-08-15</th>\n",
       "      <td>561.062304</td>\n",
       "    </tr>\n",
       "  </tbody>\n",
       "</table>\n",
       "<p>120 rows × 1 columns</p>\n",
       "</div>"
      ],
      "text/plain": [
       "                 sales\n",
       "date                  \n",
       "2017-04-18  504.832360\n",
       "2017-04-19  511.059834\n",
       "2017-04-20  513.591611\n",
       "2017-04-21  515.946630\n",
       "2017-04-22  518.496510\n",
       "...                ...\n",
       "2017-08-11  561.062304\n",
       "2017-08-12  561.062352\n",
       "2017-08-13  561.062352\n",
       "2017-08-14  561.062352\n",
       "2017-08-15  561.062304\n",
       "\n",
       "[120 rows x 1 columns]"
      ]
     },
     "execution_count": 102,
     "metadata": {},
     "output_type": "execute_result"
    }
   ],
   "source": [
    "true_predictions"
   ]
  },
  {
   "cell_type": "code",
   "execution_count": 103,
   "id": "fb5e0f7e",
   "metadata": {},
   "outputs": [],
   "source": [
    "true_predictions[\"true sales\"]=test"
   ]
  },
  {
   "cell_type": "code",
   "execution_count": 104,
   "id": "ed38b6b5",
   "metadata": {},
   "outputs": [
    {
     "data": {
      "text/html": [
       "<div>\n",
       "<style scoped>\n",
       "    .dataframe tbody tr th:only-of-type {\n",
       "        vertical-align: middle;\n",
       "    }\n",
       "\n",
       "    .dataframe tbody tr th {\n",
       "        vertical-align: top;\n",
       "    }\n",
       "\n",
       "    .dataframe thead th {\n",
       "        text-align: right;\n",
       "    }\n",
       "</style>\n",
       "<table border=\"1\" class=\"dataframe\">\n",
       "  <thead>\n",
       "    <tr style=\"text-align: right;\">\n",
       "      <th></th>\n",
       "      <th>sales</th>\n",
       "      <th>true sales</th>\n",
       "    </tr>\n",
       "    <tr>\n",
       "      <th>date</th>\n",
       "      <th></th>\n",
       "      <th></th>\n",
       "    </tr>\n",
       "  </thead>\n",
       "  <tbody>\n",
       "    <tr>\n",
       "      <th>2017-04-18</th>\n",
       "      <td>504.832360</td>\n",
       "      <td>402.47</td>\n",
       "    </tr>\n",
       "    <tr>\n",
       "      <th>2017-04-19</th>\n",
       "      <td>511.059834</td>\n",
       "      <td>412.87</td>\n",
       "    </tr>\n",
       "    <tr>\n",
       "      <th>2017-04-20</th>\n",
       "      <td>513.591611</td>\n",
       "      <td>379.24</td>\n",
       "    </tr>\n",
       "  </tbody>\n",
       "</table>\n",
       "</div>"
      ],
      "text/plain": [
       "                 sales  true sales\n",
       "date                              \n",
       "2017-04-18  504.832360      402.47\n",
       "2017-04-19  511.059834      412.87\n",
       "2017-04-20  513.591611      379.24"
      ]
     },
     "execution_count": 104,
     "metadata": {},
     "output_type": "execute_result"
    }
   ],
   "source": [
    "true_predictions.head(3)"
   ]
  },
  {
   "cell_type": "code",
   "execution_count": 105,
   "id": "71c0eb53",
   "metadata": {},
   "outputs": [
    {
     "data": {
      "text/plain": [
       "<AxesSubplot:xlabel='date'>"
      ]
     },
     "execution_count": 105,
     "metadata": {},
     "output_type": "execute_result"
    },
    {
     "data": {
      "image/png": "[encoded data removed]",
      "text/plain": [
       "<Figure size 640x480 with 1 Axes>"
      ]
     },
     "metadata": {},
     "output_type": "display_data"
    }
   ],
   "source": [
    "true_predictions.plot()"
   ]
  },
  {
   "cell_type": "markdown",
   "id": "4ee20ea1",
   "metadata": {},
   "source": [
    "# Saving the model"
   ]
  },
  {
   "cell_type": "code",
   "execution_count": 106,
   "id": "fd8ad63f",
   "metadata": {},
   "outputs": [],
   "source": [
    "from tensorflow.keras.models import load_model"
   ]
  },
  {
   "cell_type": "code",
   "execution_count": 107,
   "id": "bc12f152",
   "metadata": {},
   "outputs": [],
   "source": [
    "#Save model  in HDF5 file \n",
    "model.save(\"StoreSales_TimeSeriesForecast.h5\")"
   ]
  },
  {
   "cell_type": "code",
   "execution_count": null,
   "id": "dcb2ac84",
   "metadata": {},
   "outputs": [],
   "source": []
  },
  {
   "cell_type": "markdown",
   "id": "f2c9a582",
   "metadata": {},
   "source": [
    "## Predicting into future"
   ]
  },
  {
   "cell_type": "code",
   "execution_count": 108,
   "id": "20e51f76",
   "metadata": {},
   "outputs": [
    {
     "data": {
      "text/html": [
       "<div>\n",
       "<style scoped>\n",
       "    .dataframe tbody tr th:only-of-type {\n",
       "        vertical-align: middle;\n",
       "    }\n",
       "\n",
       "    .dataframe tbody tr th {\n",
       "        vertical-align: top;\n",
       "    }\n",
       "\n",
       "    .dataframe thead th {\n",
       "        text-align: right;\n",
       "    }\n",
       "</style>\n",
       "<table border=\"1\" class=\"dataframe\">\n",
       "  <thead>\n",
       "    <tr style=\"text-align: right;\">\n",
       "      <th></th>\n",
       "      <th>id</th>\n",
       "      <th>onpromotion</th>\n",
       "    </tr>\n",
       "    <tr>\n",
       "      <th>date</th>\n",
       "      <th></th>\n",
       "      <th></th>\n",
       "    </tr>\n",
       "  </thead>\n",
       "  <tbody>\n",
       "    <tr>\n",
       "      <th>2017-08-16</th>\n",
       "      <td>3001778.5</td>\n",
       "      <td>17.137486</td>\n",
       "    </tr>\n",
       "    <tr>\n",
       "      <th>2017-08-17</th>\n",
       "      <td>3003560.5</td>\n",
       "      <td>4.211560</td>\n",
       "    </tr>\n",
       "    <tr>\n",
       "      <th>2017-08-18</th>\n",
       "      <td>3005342.5</td>\n",
       "      <td>7.731201</td>\n",
       "    </tr>\n",
       "    <tr>\n",
       "      <th>2017-08-19</th>\n",
       "      <td>3007124.5</td>\n",
       "      <td>4.833895</td>\n",
       "    </tr>\n",
       "    <tr>\n",
       "      <th>2017-08-20</th>\n",
       "      <td>3008906.5</td>\n",
       "      <td>5.338384</td>\n",
       "    </tr>\n",
       "    <tr>\n",
       "      <th>2017-08-21</th>\n",
       "      <td>3010688.5</td>\n",
       "      <td>4.545455</td>\n",
       "    </tr>\n",
       "    <tr>\n",
       "      <th>2017-08-22</th>\n",
       "      <td>3012470.5</td>\n",
       "      <td>5.777217</td>\n",
       "    </tr>\n",
       "    <tr>\n",
       "      <th>2017-08-23</th>\n",
       "      <td>3014252.5</td>\n",
       "      <td>9.259259</td>\n",
       "    </tr>\n",
       "    <tr>\n",
       "      <th>2017-08-24</th>\n",
       "      <td>3016034.5</td>\n",
       "      <td>4.639731</td>\n",
       "    </tr>\n",
       "    <tr>\n",
       "      <th>2017-08-25</th>\n",
       "      <td>3017816.5</td>\n",
       "      <td>7.851291</td>\n",
       "    </tr>\n",
       "    <tr>\n",
       "      <th>2017-08-26</th>\n",
       "      <td>3019598.5</td>\n",
       "      <td>5.084736</td>\n",
       "    </tr>\n",
       "    <tr>\n",
       "      <th>2017-08-27</th>\n",
       "      <td>3021380.5</td>\n",
       "      <td>5.778339</td>\n",
       "    </tr>\n",
       "    <tr>\n",
       "      <th>2017-08-28</th>\n",
       "      <td>3023162.5</td>\n",
       "      <td>4.763749</td>\n",
       "    </tr>\n",
       "    <tr>\n",
       "      <th>2017-08-29</th>\n",
       "      <td>3024944.5</td>\n",
       "      <td>6.103255</td>\n",
       "    </tr>\n",
       "    <tr>\n",
       "      <th>2017-08-30</th>\n",
       "      <td>3026726.5</td>\n",
       "      <td>12.060045</td>\n",
       "    </tr>\n",
       "    <tr>\n",
       "      <th>2017-08-31</th>\n",
       "      <td>3028508.5</td>\n",
       "      <td>6.330527</td>\n",
       "    </tr>\n",
       "  </tbody>\n",
       "</table>\n",
       "</div>"
      ],
      "text/plain": [
       "                   id  onpromotion\n",
       "date                              \n",
       "2017-08-16  3001778.5    17.137486\n",
       "2017-08-17  3003560.5     4.211560\n",
       "2017-08-18  3005342.5     7.731201\n",
       "2017-08-19  3007124.5     4.833895\n",
       "2017-08-20  3008906.5     5.338384\n",
       "2017-08-21  3010688.5     4.545455\n",
       "2017-08-22  3012470.5     5.777217\n",
       "2017-08-23  3014252.5     9.259259\n",
       "2017-08-24  3016034.5     4.639731\n",
       "2017-08-25  3017816.5     7.851291\n",
       "2017-08-26  3019598.5     5.084736\n",
       "2017-08-27  3021380.5     5.778339\n",
       "2017-08-28  3023162.5     4.763749\n",
       "2017-08-29  3024944.5     6.103255\n",
       "2017-08-30  3026726.5    12.060045\n",
       "2017-08-31  3028508.5     6.330527"
      ]
     },
     "execution_count": 108,
     "metadata": {},
     "output_type": "execute_result"
    }
   ],
   "source": [
    "df_forpred"
   ]
  },
  {
   "cell_type": "code",
   "execution_count": 109,
   "id": "ab2b1623",
   "metadata": {},
   "outputs": [],
   "source": [
    "#Lets predict into future from 2017-08-16 - 2017-08-31"
   ]
  },
  {
   "cell_type": "code",
   "execution_count": 110,
   "id": "ce207469",
   "metadata": {},
   "outputs": [],
   "source": [
    "full_scaler=MinMaxScaler()\n",
    "scaled_full_data=full_scaler.fit_transform(df_train)"
   ]
  },
  {
   "cell_type": "code",
   "execution_count": 111,
   "id": "3eb17fdc",
   "metadata": {},
   "outputs": [],
   "source": [
    "length=12\n",
    "generator=TimeseriesGenerator(scaled_full_data,scaled_full_data,length=length,batch_size=1)"
   ]
  },
  {
   "cell_type": "code",
   "execution_count": 112,
   "id": "cb0af860",
   "metadata": {},
   "outputs": [
    {
     "name": "stdout",
     "output_type": "stream",
     "text": [
      "Epoch 1/3\n"
     ]
    },
    {
     "name": "stderr",
     "output_type": "stream",
     "text": [
      "C:\\Users\\17573\\anaconda3\\envs\\myenv\\lib\\site-packages\\ipykernel_launcher.py:12: UserWarning: `Model.fit_generator` is deprecated and will be removed in a future version. Please use `Model.fit`, which supports generators.\n",
      "  if sys.path[0] == \"\":\n"
     ]
    },
    {
     "name": "stdout",
     "output_type": "stream",
     "text": [
      "639/639 [==============================] - 4s 4ms/step - loss: 0.0208\n",
      "Epoch 2/3\n",
      "639/639 [==============================] - 2s 4ms/step - loss: 0.0166\n",
      "Epoch 3/3\n",
      "639/639 [==============================] - 2s 4ms/step - loss: 0.0126\n"
     ]
    },
    {
     "data": {
      "text/plain": [
       "<keras.callbacks.History at 0x1d748770b48>"
      ]
     },
     "execution_count": 112,
     "metadata": {},
     "output_type": "execute_result"
    }
   ],
   "source": [
    "#define model\n",
    "model = Sequential()\n",
    "\n",
    "# Simple RNN layer\n",
    "model.add(LSTM(100,input_shape=(length,scaled_full_data.shape[1])))\n",
    "\n",
    "# Final Prediction (one neuron per feature)\n",
    "model.add(Dense(scaled_full_data.shape[1]))\n",
    "\n",
    "model.compile(optimizer='adam', loss='mse')\n",
    "\n",
    "model.fit_generator(generator,epochs=3)"
   ]
  },
  {
   "cell_type": "code",
   "execution_count": 113,
   "id": "b3829b69",
   "metadata": {},
   "outputs": [
    {
     "name": "stdout",
     "output_type": "stream",
     "text": [
      "1/1 [==============================] - 0s 407ms/step\n",
      "1/1 [==============================] - 0s 17ms/step\n",
      "1/1 [==============================] - 0s 17ms/step\n",
      "1/1 [==============================] - 0s 18ms/step\n",
      "1/1 [==============================] - 0s 16ms/step\n",
      "1/1 [==============================] - 0s 16ms/step\n",
      "1/1 [==============================] - 0s 18ms/step\n",
      "1/1 [==============================] - 0s 16ms/step\n",
      "1/1 [==============================] - 0s 18ms/step\n",
      "1/1 [==============================] - 0s 16ms/step\n",
      "1/1 [==============================] - 0s 17ms/step\n",
      "1/1 [==============================] - 0s 17ms/step\n",
      "1/1 [==============================] - 0s 17ms/step\n",
      "1/1 [==============================] - 0s 17ms/step\n",
      "1/1 [==============================] - 0s 18ms/step\n",
      "1/1 [==============================] - 0s 17ms/step\n"
     ]
    }
   ],
   "source": [
    "forecast=[]\n",
    "periods=12\n",
    "\n",
    "first_eval_batch=scaled_full_data[-length:]\n",
    "current_batch=first_eval_batch.reshape(1,length,n_features)\n",
    "\n",
    "for i in range(len(df_forpred)):\n",
    "    \n",
    "    current_pred=model.predict(current_batch)[0]\n",
    "    \n",
    "    forecast.append(current_pred)\n",
    "    \n",
    "    current_batch=np.append(current_batch[:,1:,:],[[current_pred]],axis=1)#remove first item from the batch and append new prediction at the end"
   ]
  },
  {
   "cell_type": "code",
   "execution_count": 114,
   "id": "0b7875a9",
   "metadata": {},
   "outputs": [],
   "source": [
    "true_forecast = scaler.inverse_transform(forecast)"
   ]
  },
  {
   "cell_type": "code",
   "execution_count": 115,
   "id": "508b9523",
   "metadata": {},
   "outputs": [],
   "source": [
    "true_forecast = pd.DataFrame(data=true_forecast,columns=[\"sales\"],index=df_forpred.index)"
   ]
  },
  {
   "cell_type": "code",
   "execution_count": 116,
   "id": "dd0291f9",
   "metadata": {},
   "outputs": [
    {
     "data": {
      "text/html": [
       "<div>\n",
       "<style scoped>\n",
       "    .dataframe tbody tr th:only-of-type {\n",
       "        vertical-align: middle;\n",
       "    }\n",
       "\n",
       "    .dataframe tbody tr th {\n",
       "        vertical-align: top;\n",
       "    }\n",
       "\n",
       "    .dataframe thead th {\n",
       "        text-align: right;\n",
       "    }\n",
       "</style>\n",
       "<table border=\"1\" class=\"dataframe\">\n",
       "  <thead>\n",
       "    <tr style=\"text-align: right;\">\n",
       "      <th></th>\n",
       "      <th>sales</th>\n",
       "    </tr>\n",
       "    <tr>\n",
       "      <th>date</th>\n",
       "      <th></th>\n",
       "    </tr>\n",
       "  </thead>\n",
       "  <tbody>\n",
       "    <tr>\n",
       "      <th>2017-08-16</th>\n",
       "      <td>386.339714</td>\n",
       "    </tr>\n",
       "    <tr>\n",
       "      <th>2017-08-17</th>\n",
       "      <td>384.899543</td>\n",
       "    </tr>\n",
       "    <tr>\n",
       "      <th>2017-08-18</th>\n",
       "      <td>410.574854</td>\n",
       "    </tr>\n",
       "    <tr>\n",
       "      <th>2017-08-19</th>\n",
       "      <td>444.085734</td>\n",
       "    </tr>\n",
       "    <tr>\n",
       "      <th>2017-08-20</th>\n",
       "      <td>455.333858</td>\n",
       "    </tr>\n",
       "    <tr>\n",
       "      <th>2017-08-21</th>\n",
       "      <td>442.937296</td>\n",
       "    </tr>\n",
       "    <tr>\n",
       "      <th>2017-08-22</th>\n",
       "      <td>419.685581</td>\n",
       "    </tr>\n",
       "    <tr>\n",
       "      <th>2017-08-23</th>\n",
       "      <td>399.236750</td>\n",
       "    </tr>\n",
       "    <tr>\n",
       "      <th>2017-08-24</th>\n",
       "      <td>399.914126</td>\n",
       "    </tr>\n",
       "    <tr>\n",
       "      <th>2017-08-25</th>\n",
       "      <td>414.240218</td>\n",
       "    </tr>\n",
       "    <tr>\n",
       "      <th>2017-08-26</th>\n",
       "      <td>435.763766</td>\n",
       "    </tr>\n",
       "    <tr>\n",
       "      <th>2017-08-27</th>\n",
       "      <td>446.864835</td>\n",
       "    </tr>\n",
       "    <tr>\n",
       "      <th>2017-08-28</th>\n",
       "      <td>444.076513</td>\n",
       "    </tr>\n",
       "    <tr>\n",
       "      <th>2017-08-29</th>\n",
       "      <td>428.446579</td>\n",
       "    </tr>\n",
       "    <tr>\n",
       "      <th>2017-08-30</th>\n",
       "      <td>413.024173</td>\n",
       "    </tr>\n",
       "    <tr>\n",
       "      <th>2017-08-31</th>\n",
       "      <td>408.696430</td>\n",
       "    </tr>\n",
       "  </tbody>\n",
       "</table>\n",
       "</div>"
      ],
      "text/plain": [
       "                 sales\n",
       "date                  \n",
       "2017-08-16  386.339714\n",
       "2017-08-17  384.899543\n",
       "2017-08-18  410.574854\n",
       "2017-08-19  444.085734\n",
       "2017-08-20  455.333858\n",
       "2017-08-21  442.937296\n",
       "2017-08-22  419.685581\n",
       "2017-08-23  399.236750\n",
       "2017-08-24  399.914126\n",
       "2017-08-25  414.240218\n",
       "2017-08-26  435.763766\n",
       "2017-08-27  446.864835\n",
       "2017-08-28  444.076513\n",
       "2017-08-29  428.446579\n",
       "2017-08-30  413.024173\n",
       "2017-08-31  408.696430"
      ]
     },
     "execution_count": 116,
     "metadata": {},
     "output_type": "execute_result"
    }
   ],
   "source": [
    "true_forecast"
   ]
  },
  {
   "cell_type": "code",
   "execution_count": 117,
   "id": "6bd6b86b",
   "metadata": {},
   "outputs": [
    {
     "data": {
      "text/plain": [
       "(17348.0, 17409.0)"
      ]
     },
     "execution_count": 117,
     "metadata": {},
     "output_type": "execute_result"
    },
    {
     "data": {
      "image/png": "[encoded data removed]",
      "text/plain": [
       "<Figure size 640x480 with 1 Axes>"
      ]
     },
     "metadata": {},
     "output_type": "display_data"
    }
   ],
   "source": [
    "ax=df_train.plot()\n",
    "true_forecast.plot(ax=ax)\n",
    "#plt.xlim(\"2015-10-01\",\"2017-08-31\")\n",
    "plt.xlim(\"2017-07-01\",\"2017-08-31\")"
   ]
  },
  {
   "cell_type": "code",
   "execution_count": 118,
   "id": "99b0c686",
   "metadata": {},
   "outputs": [
    {
     "data": {
      "text/plain": [
       "array([[0.51721216],\n",
       "       [0.70389929],\n",
       "       [0.58127111],\n",
       "       [0.4394105 ],\n",
       "       [0.45422168],\n",
       "       [0.63242247],\n",
       "       [0.73417255],\n",
       "       [0.46283083],\n",
       "       [0.42139392],\n",
       "       [0.46703101],\n",
       "       [0.34105005],\n",
       "       [0.4235677 ],\n",
       "       [0.58961007],\n",
       "       [0.71955788],\n",
       "       [0.48547743],\n",
       "       [0.41822536],\n",
       "       [0.46303961],\n",
       "       [0.37793061],\n",
       "       [0.45040221],\n",
       "       [0.58694504],\n",
       "       [0.69177771],\n",
       "       [0.47182069],\n",
       "       [0.41393921],\n",
       "       [0.44578446],\n",
       "       [0.3571876 ],\n",
       "       [0.43625422],\n",
       "       [0.57789377],\n",
       "       [0.72953024],\n",
       "       [0.516856  ],\n",
       "       [0.58273258],\n",
       "       [0.58937673],\n",
       "       [0.45816395],\n",
       "       [0.50811176],\n",
       "       [0.65756217],\n",
       "       [0.77949033],\n",
       "       [0.55841572],\n",
       "       [0.48276328],\n",
       "       [0.5071047 ],\n",
       "       [0.44476512],\n",
       "       [0.47988947],\n",
       "       [0.62273258],\n",
       "       [0.72180534],\n",
       "       [0.55102241],\n",
       "       [0.5291004 ],\n",
       "       [0.58431686],\n",
       "       [0.54978201],\n",
       "       [0.60750384],\n",
       "       [0.74668714],\n",
       "       [0.80175622],\n",
       "       [0.73108996],\n",
       "       [0.77863064],\n",
       "       [0.8160393 ],\n",
       "       [0.73853239],\n",
       "       [0.64413878],\n",
       "       [0.56901443],\n",
       "       [0.53591649],\n",
       "       [0.59178385],\n",
       "       [0.70156586],\n",
       "       [0.65649371],\n",
       "       [0.00299662],\n",
       "       [0.72680381],\n",
       "       [0.83711391],\n",
       "       [0.65050046],\n",
       "       [0.56735646],\n",
       "       [0.55796131],\n",
       "       [0.44206325],\n",
       "       [0.48347559],\n",
       "       [0.67341726],\n",
       "       [0.7461222 ],\n",
       "       [0.47788763],\n",
       "       [0.43761744],\n",
       "       [0.44657046],\n",
       "       [0.37897452],\n",
       "       [0.45413571],\n",
       "       [0.65316549],\n",
       "       [0.72082284],\n",
       "       [0.48084741],\n",
       "       [0.42650292],\n",
       "       [0.50080442],\n",
       "       [0.37266196],\n",
       "       [0.43856309],\n",
       "       [0.61659196],\n",
       "       [0.66770648],\n",
       "       [0.44521953],\n",
       "       [0.41170402],\n",
       "       [0.43775253],\n",
       "       [0.35949647],\n",
       "       [0.44687749],\n",
       "       [0.66014123],\n",
       "       [0.74509057],\n",
       "       [0.59268038],\n",
       "       [0.51905434],\n",
       "       [0.52396684],\n",
       "       [0.43986491],\n",
       "       [0.5213755 ],\n",
       "       [0.64084741],\n",
       "       [0.47258213],\n",
       "       [0.43037151],\n",
       "       [0.50645379],\n",
       "       [0.53681302],\n",
       "       [0.43715075],\n",
       "       [0.47282776],\n",
       "       [0.58370279],\n",
       "       [0.63965613],\n",
       "       [0.50626957],\n",
       "       [0.48727049],\n",
       "       [0.49050046],\n",
       "       [0.38456248],\n",
       "       [0.45515505],\n",
       "       [0.60076144],\n",
       "       [0.67491557],\n",
       "       [0.47334357],\n",
       "       [0.43366288],\n",
       "       [0.45726742],\n",
       "       [0.37621124],\n",
       "       [0.43408044],\n",
       "       [0.62344489],\n",
       "       [0.67706478],\n",
       "       [0.49245318],\n",
       "       [0.61051274],\n",
       "       [0.59708935],\n",
       "       [0.45450414],\n",
       "       [0.50687135],\n",
       "       [0.70058336],\n",
       "       [0.73527786],\n",
       "       [0.50037458],\n",
       "       [0.43432607],\n",
       "       [0.47040835],\n",
       "       [0.38622045],\n",
       "       [0.44991096],\n",
       "       [0.61062327],\n",
       "       [0.64982499],\n",
       "       [0.45209702],\n",
       "       [0.45217071],\n",
       "       [0.50152901],\n",
       "       [0.39171016],\n",
       "       [0.45118821],\n",
       "       [0.60852318],\n",
       "       [0.63233651],\n",
       "       [0.46753454],\n",
       "       [0.42082898],\n",
       "       [0.48435984],\n",
       "       [0.44687749],\n",
       "       [0.4282837 ],\n",
       "       [0.54311329],\n",
       "       [0.56599325],\n",
       "       [0.44725821],\n",
       "       [0.4197728 ],\n",
       "       [0.44663187],\n",
       "       [0.41715689],\n",
       "       [0.59296285],\n",
       "       [0.78480811],\n",
       "       [0.86480811],\n",
       "       [0.53973595],\n",
       "       [0.4918514 ],\n",
       "       [0.50496776],\n",
       "       [0.39686828],\n",
       "       [0.46701873],\n",
       "       [0.63121891],\n",
       "       [0.68697574],\n",
       "       [0.45021799],\n",
       "       [0.440786  ],\n",
       "       [0.45522874],\n",
       "       [0.3685109 ],\n",
       "       [0.45177771],\n",
       "       [0.58582745],\n",
       "       [0.86819773],\n",
       "       [0.91926313],\n",
       "       [0.78566779],\n",
       "       [0.72388087],\n",
       "       [0.68159656],\n",
       "       [0.58233958],\n",
       "       [0.69611299],\n",
       "       [0.70798895],\n",
       "       [0.46031317],\n",
       "       [0.47740866],\n",
       "       [0.4536199 ],\n",
       "       [0.36612834],\n",
       "       [0.48011053],\n",
       "       [0.72725821],\n",
       "       [0.86701873],\n",
       "       [0.66292908],\n",
       "       [0.53764814],\n",
       "       [0.54209395],\n",
       "       [0.43874731],\n",
       "       [0.51643844],\n",
       "       [0.72992324],\n",
       "       [0.55737181],\n",
       "       [0.52356156],\n",
       "       [0.46927848],\n",
       "       [0.49307952],\n",
       "       [0.4075284 ],\n",
       "       [0.45124962],\n",
       "       [0.63459625],\n",
       "       [0.72933374],\n",
       "       [0.50726435],\n",
       "       [0.44785999],\n",
       "       [0.4542708 ],\n",
       "       [0.39241019],\n",
       "       [0.47825606],\n",
       "       [0.61935523],\n",
       "       [0.7019957 ],\n",
       "       [0.47065398],\n",
       "       [0.40957937],\n",
       "       [0.43103469],\n",
       "       [0.38586429],\n",
       "       [0.57933067],\n",
       "       [0.55417869],\n",
       "       [0.65319005],\n",
       "       [0.5102487 ],\n",
       "       [0.66316242],\n",
       "       [0.55096101],\n",
       "       [0.47033466],\n",
       "       [0.50329751],\n",
       "       [0.68912496],\n",
       "       [0.76612834],\n",
       "       [0.49470064],\n",
       "       [0.44564937],\n",
       "       [0.47185754],\n",
       "       [0.36875652],\n",
       "       [0.43092416],\n",
       "       [0.57461468],\n",
       "       [0.64465459],\n",
       "       [0.46402211],\n",
       "       [0.42053423],\n",
       "       [0.47984034],\n",
       "       [0.41933067],\n",
       "       [0.50021492],\n",
       "       [0.66222905],\n",
       "       [0.56876881],\n",
       "       [0.49874117],\n",
       "       [0.45979736],\n",
       "       [0.45875345],\n",
       "       [0.37737796],\n",
       "       [0.43399447],\n",
       "       [0.58457476],\n",
       "       [0.64939515],\n",
       "       [0.46357998],\n",
       "       [0.40308259],\n",
       "       [0.42757138],\n",
       "       [0.37358305],\n",
       "       [0.5823273 ],\n",
       "       [0.73494627],\n",
       "       [0.76817931],\n",
       "       [0.57809027],\n",
       "       [0.49341111],\n",
       "       [0.51001535],\n",
       "       [0.39945963],\n",
       "       [0.46622045],\n",
       "       [0.59006448],\n",
       "       [0.63432607],\n",
       "       [0.46613448],\n",
       "       [0.42381333],\n",
       "       [0.43447344],\n",
       "       [0.36046669],\n",
       "       [0.45689899],\n",
       "       [0.60310715],\n",
       "       [0.63439975],\n",
       "       [0.47591035],\n",
       "       [0.42805035],\n",
       "       [0.46504145],\n",
       "       [0.39059257],\n",
       "       [0.43732269],\n",
       "       [0.55837888],\n",
       "       [0.57601474],\n",
       "       [0.47229966],\n",
       "       [0.42087811],\n",
       "       [0.44041756],\n",
       "       [0.35918944],\n",
       "       [0.45314093],\n",
       "       [0.61897452],\n",
       "       [0.67942278],\n",
       "       [0.60889162],\n",
       "       [0.52757753],\n",
       "       [0.52912496],\n",
       "       [0.4209518 ],\n",
       "       [0.47691741],\n",
       "       [0.58361683],\n",
       "       [0.61492171],\n",
       "       [0.48456862],\n",
       "       [0.42967148],\n",
       "       [0.44546515],\n",
       "       [0.40292294],\n",
       "       [0.50556954],\n",
       "       [0.48437212],\n",
       "       [0.51670863],\n",
       "       [0.48790912],\n",
       "       [0.48696346],\n",
       "       [0.49198649],\n",
       "       [0.38957323],\n",
       "       [0.45946577],\n",
       "       [0.56299662],\n",
       "       [0.6132269 ],\n",
       "       [0.48434756],\n",
       "       [0.44709856],\n",
       "       [0.45660424],\n",
       "       [0.37376727],\n",
       "       [0.43737181],\n",
       "       [0.53684986],\n",
       "       [0.58354314],\n",
       "       [0.45470064],\n",
       "       [0.42221676],\n",
       "       [0.49575683],\n",
       "       [0.48658274],\n",
       "       [0.56860915],\n",
       "       [0.72054037],\n",
       "       [0.7566595 ],\n",
       "       [0.55250844],\n",
       "       [0.50964691],\n",
       "       [0.50066933],\n",
       "       [0.40232115],\n",
       "       [0.44582131],\n",
       "       [0.62291679],\n",
       "       [0.69282161],\n",
       "       [0.45947805],\n",
       "       [0.40754068],\n",
       "       [0.42190973],\n",
       "       [0.38335892],\n",
       "       [0.46852932],\n",
       "       [0.61139699],\n",
       "       [0.69371815],\n",
       "       [0.46111145],\n",
       "       [0.44031931],\n",
       "       [0.45131102],\n",
       "       [0.35920172],\n",
       "       [0.44907584],\n",
       "       [0.58563095],\n",
       "       [0.64801965],\n",
       "       [0.44944427],\n",
       "       [0.39684372],\n",
       "       [0.42706785],\n",
       "       [0.35055573],\n",
       "       [0.47630335],\n",
       "       [0.80148603],\n",
       "       [0.85762358],\n",
       "       [0.56580903],\n",
       "       [0.49072152],\n",
       "       [0.50835738],\n",
       "       [0.39238563],\n",
       "       [0.54136936],\n",
       "       [0.63437519],\n",
       "       [0.74167639],\n",
       "       [0.49154437],\n",
       "       [0.42259748],\n",
       "       [0.45007062],\n",
       "       [0.3768253 ],\n",
       "       [0.45201105],\n",
       "       [0.60546515],\n",
       "       [0.75287688],\n",
       "       [0.48130181],\n",
       "       [0.42629414],\n",
       "       [0.43814553],\n",
       "       [0.39346638],\n",
       "       [0.45305496],\n",
       "       [0.5730918 ],\n",
       "       [0.69667792],\n",
       "       [0.45239177],\n",
       "       [0.41247774],\n",
       "       [0.42821001],\n",
       "       [0.36684065],\n",
       "       [0.43195579],\n",
       "       [0.5713233 ],\n",
       "       [0.64972674],\n",
       "       [0.44303347],\n",
       "       [0.55116979],\n",
       "       [0.65951489],\n",
       "       [0.53875345],\n",
       "       [0.58330979],\n",
       "       [0.60350015],\n",
       "       [0.77759902],\n",
       "       [0.57709549],\n",
       "       [0.52057722],\n",
       "       [0.53632177],\n",
       "       [0.39707706],\n",
       "       [0.48332822],\n",
       "       [0.6324716 ],\n",
       "       [0.81110224],\n",
       "       [0.49871661],\n",
       "       [0.46845563],\n",
       "       [0.5639914 ],\n",
       "       [0.41568314],\n",
       "       [0.50047283],\n",
       "       [0.63651213],\n",
       "       [0.76712312],\n",
       "       [0.52493706],\n",
       "       [0.46739945],\n",
       "       [0.5110961 ],\n",
       "       [0.40205097],\n",
       "       [0.5001658 ],\n",
       "       [0.61750077],\n",
       "       [0.71995088],\n",
       "       [0.51034695],\n",
       "       [0.43672091],\n",
       "       [0.52052809],\n",
       "       [0.57306724],\n",
       "       [0.57985877],\n",
       "       [0.75904206],\n",
       "       [0.87120663],\n",
       "       [0.6097513 ],\n",
       "       [0.63436291],\n",
       "       [0.58964691],\n",
       "       [0.4562358 ],\n",
       "       [0.52574762],\n",
       "       [0.62575376],\n",
       "       [0.76309487],\n",
       "       [0.57352165],\n",
       "       [0.50660117],\n",
       "       [0.563537  ],\n",
       "       [0.50693276],\n",
       "       [0.62496776],\n",
       "       [0.73024255],\n",
       "       [0.86037458],\n",
       "       [0.70032545],\n",
       "       [0.73627264],\n",
       "       [0.80580903],\n",
       "       [0.77447958],\n",
       "       [0.87530857],\n",
       "       [0.85096715],\n",
       "       [0.70344489],\n",
       "       [0.57229352],\n",
       "       [0.64745471],\n",
       "       [0.60787228],\n",
       "       [0.79363832],\n",
       "       [0.75598403],\n",
       "       [0.        ],\n",
       "       [0.95812097],\n",
       "       [0.75279091],\n",
       "       [0.67403132],\n",
       "       [0.52760209],\n",
       "       [0.57031624],\n",
       "       [0.75239791],\n",
       "       [0.81355849],\n",
       "       [0.53869205],\n",
       "       [0.50348173],\n",
       "       [0.52286153],\n",
       "       [0.42560639],\n",
       "       [0.52158428],\n",
       "       [0.69536383],\n",
       "       [0.801965  ],\n",
       "       [0.55990175],\n",
       "       [0.5091311 ],\n",
       "       [0.5310654 ],\n",
       "       [0.40997237],\n",
       "       [0.49181455],\n",
       "       [0.73097943],\n",
       "       [0.78300276],\n",
       "       [0.5417378 ],\n",
       "       [0.48876881],\n",
       "       [0.50466073],\n",
       "       [0.38899601],\n",
       "       [0.48934602],\n",
       "       [0.66559411],\n",
       "       [0.73266196],\n",
       "       [0.47280319],\n",
       "       [0.52800737],\n",
       "       [0.65451643],\n",
       "       [0.50779245],\n",
       "       [0.56691434],\n",
       "       [0.77236721],\n",
       "       [0.78560639],\n",
       "       [0.53382868],\n",
       "       [0.50127111],\n",
       "       [0.5317163 ],\n",
       "       [0.4219957 ],\n",
       "       [0.51007676],\n",
       "       [0.64289837],\n",
       "       [0.73241633],\n",
       "       [0.53909733],\n",
       "       [0.43454713],\n",
       "       [0.50565551],\n",
       "       [0.43686828],\n",
       "       [0.51465766],\n",
       "       [0.72454406],\n",
       "       [0.58360454],\n",
       "       [0.51484188],\n",
       "       [0.48637396],\n",
       "       [0.50124655],\n",
       "       [0.45726742],\n",
       "       [0.55417869],\n",
       "       [0.69877802],\n",
       "       [0.52627571],\n",
       "       [0.50509057],\n",
       "       [0.6459564 ],\n",
       "       [0.68673012],\n",
       "       [0.56798281],\n",
       "       [0.59997544],\n",
       "       [0.76751612],\n",
       "       [0.81661652],\n",
       "       [0.53622352],\n",
       "       [0.51673319],\n",
       "       [0.52996009],\n",
       "       [0.44233344],\n",
       "       [0.52499846],\n",
       "       [0.68167025],\n",
       "       [0.78147989],\n",
       "       [0.51158735],\n",
       "       [0.47479275],\n",
       "       [0.55378569],\n",
       "       [0.47349094],\n",
       "       [0.55150138],\n",
       "       [0.70766963],\n",
       "       [0.78915566],\n",
       "       [0.56122812],\n",
       "       [0.50623273],\n",
       "       [0.52088425],\n",
       "       [0.4540129 ],\n",
       "       [0.53468836],\n",
       "       [0.70714154],\n",
       "       [0.75085048],\n",
       "       [0.53206018],\n",
       "       [0.47613141],\n",
       "       [0.56      ],\n",
       "       [0.43110838],\n",
       "       [0.59729813],\n",
       "       [1.        ],\n",
       "       [0.77640774],\n",
       "       [0.56727049],\n",
       "       [0.56755296],\n",
       "       [0.57515505],\n",
       "       [0.46242554],\n",
       "       [0.51923856],\n",
       "       [0.67299969],\n",
       "       [0.75096101],\n",
       "       [0.50124655],\n",
       "       [0.5025852 ],\n",
       "       [0.53734111],\n",
       "       [0.49962542],\n",
       "       [0.50227817],\n",
       "       [0.61097943],\n",
       "       [0.67086276],\n",
       "       [0.52642309],\n",
       "       [0.4859564 ],\n",
       "       [0.49872889],\n",
       "       [0.45742708],\n",
       "       [0.54011667],\n",
       "       [0.66359226],\n",
       "       [0.77739024],\n",
       "       [0.51205404],\n",
       "       [0.48719681],\n",
       "       [0.53003377],\n",
       "       [0.42235186],\n",
       "       [0.54139392],\n",
       "       [0.72790912],\n",
       "       [0.70927848],\n",
       "       [0.89223212],\n",
       "       [0.61698496],\n",
       "       [0.62865213],\n",
       "       [0.48557568],\n",
       "       [0.52978815],\n",
       "       [0.70802579],\n",
       "       [0.83756831],\n",
       "       [0.52669328],\n",
       "       [0.48499846],\n",
       "       [0.51965613],\n",
       "       [0.43871047],\n",
       "       [0.51877188],\n",
       "       [0.76147375],\n",
       "       [0.60104391],\n",
       "       [0.55889469],\n",
       "       [0.54839423],\n",
       "       [0.57155665],\n",
       "       [0.42482039],\n",
       "       [0.52494934],\n",
       "       [0.70543445],\n",
       "       [0.8200307 ],\n",
       "       [0.52849862],\n",
       "       [0.49005834],\n",
       "       [0.50601167],\n",
       "       [0.41903592],\n",
       "       [0.67018729],\n",
       "       [0.63414185],\n",
       "       [0.72342647],\n",
       "       [0.52703715],\n",
       "       [0.5033712 ],\n",
       "       [0.58303961],\n",
       "       [0.52018422],\n",
       "       [0.62463617],\n",
       "       [0.80224747],\n",
       "       [0.94033773],\n",
       "       [0.62068161],\n",
       "       [0.54684679],\n",
       "       [0.5726374 ],\n",
       "       [0.45142155],\n",
       "       [0.53964998],\n",
       "       [0.67653669],\n",
       "       [0.82811176],\n",
       "       [0.52120356],\n",
       "       [0.49436905],\n",
       "       [0.5332883 ],\n",
       "       [0.44676696],\n",
       "       [0.56698803],\n",
       "       [0.7471047 ],\n",
       "       [0.65683758],\n",
       "       [0.53692355],\n",
       "       [0.53428308],\n",
       "       [0.51969297],\n",
       "       [0.41198649],\n",
       "       [0.51618053],\n",
       "       [0.65553577],\n",
       "       [0.74468529],\n",
       "       [0.51226282],\n",
       "       [0.46184833],\n",
       "       [0.49608842],\n",
       "       [0.42641695],\n",
       "       [0.54458704],\n",
       "       [0.82388701],\n",
       "       [0.88512128],\n",
       "       [0.6292662 ],\n",
       "       [0.56531778],\n",
       "       [0.57354621],\n",
       "       [0.47428922],\n",
       "       [0.54700645],\n",
       "       [0.67971753],\n",
       "       [0.75034695],\n",
       "       [0.54588885],\n",
       "       [0.49514277],\n",
       "       [0.50773104],\n",
       "       [0.42561867],\n",
       "       [0.51923856],\n",
       "       [0.65953945],\n",
       "       [0.75032238],\n",
       "       [0.55565244],\n",
       "       [0.49487258],\n",
       "       [0.52094566],\n",
       "       [0.46602395],\n",
       "       [0.53090574],\n",
       "       [0.63460854],\n",
       "       [0.69759902],\n",
       "       [0.5544366 ],\n",
       "       [0.48346331],\n",
       "       [0.50211851],\n",
       "       [0.44643537],\n",
       "       [0.56720909],\n",
       "       [0.70312558],\n",
       "       [0.76614062],\n",
       "       [0.60218606],\n",
       "       [0.67295057],\n",
       "       [0.65653055],\n",
       "       [0.49344796],\n",
       "       [0.5621615 ],\n",
       "       [0.6572183 ],\n",
       "       [0.71501382],\n",
       "       [0.54127111],\n",
       "       [0.4863494 ],\n",
       "       [0.49763586],\n",
       "       [0.44060178],\n",
       "       [0.56119128],\n",
       "       [0.53794289],\n",
       "       [0.58825913],\n",
       "       [0.51608228],\n",
       "       [0.51728585]])"
      ]
     },
     "execution_count": 118,
     "metadata": {},
     "output_type": "execute_result"
    }
   ],
   "source": [
    "scaled_full_data"
   ]
  },
  {
   "cell_type": "code",
   "execution_count": null,
   "id": "534787bd",
   "metadata": {},
   "outputs": [],
   "source": []
  },
  {
   "cell_type": "code",
   "execution_count": null,
   "id": "29596a44",
   "metadata": {},
   "outputs": [],
   "source": []
  }
 ],
 "metadata": {
  "kernelspec": {
   "display_name": "Python 3 (ipykernel)",
   "language": "python",
   "name": "python3"
  },
  "language_info": {
   "codemirror_mode": {
    "name": "ipython",
    "version": 3
   },
   "file_extension": ".py",
   "mimetype": "text/x-python",
   "name": "python",
   "nbconvert_exporter": "python",
   "pygments_lexer": "ipython3",
   "version": "3.7.16"
  }
 },
 "nbformat": 4,
 "nbformat_minor": 5
}
